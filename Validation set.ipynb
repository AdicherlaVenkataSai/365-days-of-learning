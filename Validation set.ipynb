{
 "cells": [
  {
   "cell_type": "markdown",
   "metadata": {},
   "source": [
    "# Validation Set"
   ]
  },
  {
   "cell_type": "markdown",
   "metadata": {},
   "source": [
    "# Hold_out Validation"
   ]
  },
  {
   "cell_type": "code",
   "execution_count": 1,
   "metadata": {},
   "outputs": [],
   "source": [
    "import pandas as pd\n",
    "import numpy as  np\n",
    "import matplotlib.pyplot as plt\n",
    "%matplotlib inline"
   ]
  },
  {
   "cell_type": "code",
   "execution_count": 2,
   "metadata": {},
   "outputs": [],
   "source": [
    "data = pd.read_csv('data_knn_classification_cleaned_titanic.csv')"
   ]
  },
  {
   "cell_type": "code",
   "execution_count": 3,
   "metadata": {},
   "outputs": [
    {
     "data": {
      "text/html": [
       "<div>\n",
       "<style scoped>\n",
       "    .dataframe tbody tr th:only-of-type {\n",
       "        vertical-align: middle;\n",
       "    }\n",
       "\n",
       "    .dataframe tbody tr th {\n",
       "        vertical-align: top;\n",
       "    }\n",
       "\n",
       "    .dataframe thead th {\n",
       "        text-align: right;\n",
       "    }\n",
       "</style>\n",
       "<table border=\"1\" class=\"dataframe\">\n",
       "  <thead>\n",
       "    <tr style=\"text-align: right;\">\n",
       "      <th></th>\n",
       "      <th>Survived</th>\n",
       "      <th>Age</th>\n",
       "      <th>Fare</th>\n",
       "      <th>Pclass_1</th>\n",
       "      <th>Pclass_2</th>\n",
       "      <th>Pclass_3</th>\n",
       "      <th>Sex_female</th>\n",
       "      <th>Sex_male</th>\n",
       "      <th>SibSp_0</th>\n",
       "      <th>SibSp_1</th>\n",
       "      <th>...</th>\n",
       "      <th>Parch_0</th>\n",
       "      <th>Parch_1</th>\n",
       "      <th>Parch_2</th>\n",
       "      <th>Parch_3</th>\n",
       "      <th>Parch_4</th>\n",
       "      <th>Parch_5</th>\n",
       "      <th>Parch_6</th>\n",
       "      <th>Embarked_C</th>\n",
       "      <th>Embarked_Q</th>\n",
       "      <th>Embarked_S</th>\n",
       "    </tr>\n",
       "  </thead>\n",
       "  <tbody>\n",
       "    <tr>\n",
       "      <td>0</td>\n",
       "      <td>0</td>\n",
       "      <td>22.0</td>\n",
       "      <td>7.2500</td>\n",
       "      <td>0</td>\n",
       "      <td>0</td>\n",
       "      <td>1</td>\n",
       "      <td>0</td>\n",
       "      <td>1</td>\n",
       "      <td>0</td>\n",
       "      <td>1</td>\n",
       "      <td>...</td>\n",
       "      <td>1</td>\n",
       "      <td>0</td>\n",
       "      <td>0</td>\n",
       "      <td>0</td>\n",
       "      <td>0</td>\n",
       "      <td>0</td>\n",
       "      <td>0</td>\n",
       "      <td>0</td>\n",
       "      <td>0</td>\n",
       "      <td>1</td>\n",
       "    </tr>\n",
       "    <tr>\n",
       "      <td>1</td>\n",
       "      <td>1</td>\n",
       "      <td>38.0</td>\n",
       "      <td>71.2833</td>\n",
       "      <td>1</td>\n",
       "      <td>0</td>\n",
       "      <td>0</td>\n",
       "      <td>1</td>\n",
       "      <td>0</td>\n",
       "      <td>0</td>\n",
       "      <td>1</td>\n",
       "      <td>...</td>\n",
       "      <td>1</td>\n",
       "      <td>0</td>\n",
       "      <td>0</td>\n",
       "      <td>0</td>\n",
       "      <td>0</td>\n",
       "      <td>0</td>\n",
       "      <td>0</td>\n",
       "      <td>1</td>\n",
       "      <td>0</td>\n",
       "      <td>0</td>\n",
       "    </tr>\n",
       "    <tr>\n",
       "      <td>2</td>\n",
       "      <td>1</td>\n",
       "      <td>26.0</td>\n",
       "      <td>7.9250</td>\n",
       "      <td>0</td>\n",
       "      <td>0</td>\n",
       "      <td>1</td>\n",
       "      <td>1</td>\n",
       "      <td>0</td>\n",
       "      <td>1</td>\n",
       "      <td>0</td>\n",
       "      <td>...</td>\n",
       "      <td>1</td>\n",
       "      <td>0</td>\n",
       "      <td>0</td>\n",
       "      <td>0</td>\n",
       "      <td>0</td>\n",
       "      <td>0</td>\n",
       "      <td>0</td>\n",
       "      <td>0</td>\n",
       "      <td>0</td>\n",
       "      <td>1</td>\n",
       "    </tr>\n",
       "    <tr>\n",
       "      <td>3</td>\n",
       "      <td>1</td>\n",
       "      <td>35.0</td>\n",
       "      <td>53.1000</td>\n",
       "      <td>1</td>\n",
       "      <td>0</td>\n",
       "      <td>0</td>\n",
       "      <td>1</td>\n",
       "      <td>0</td>\n",
       "      <td>0</td>\n",
       "      <td>1</td>\n",
       "      <td>...</td>\n",
       "      <td>1</td>\n",
       "      <td>0</td>\n",
       "      <td>0</td>\n",
       "      <td>0</td>\n",
       "      <td>0</td>\n",
       "      <td>0</td>\n",
       "      <td>0</td>\n",
       "      <td>0</td>\n",
       "      <td>0</td>\n",
       "      <td>1</td>\n",
       "    </tr>\n",
       "    <tr>\n",
       "      <td>4</td>\n",
       "      <td>0</td>\n",
       "      <td>35.0</td>\n",
       "      <td>8.0500</td>\n",
       "      <td>0</td>\n",
       "      <td>0</td>\n",
       "      <td>1</td>\n",
       "      <td>0</td>\n",
       "      <td>1</td>\n",
       "      <td>1</td>\n",
       "      <td>0</td>\n",
       "      <td>...</td>\n",
       "      <td>1</td>\n",
       "      <td>0</td>\n",
       "      <td>0</td>\n",
       "      <td>0</td>\n",
       "      <td>0</td>\n",
       "      <td>0</td>\n",
       "      <td>0</td>\n",
       "      <td>0</td>\n",
       "      <td>0</td>\n",
       "      <td>1</td>\n",
       "    </tr>\n",
       "  </tbody>\n",
       "</table>\n",
       "<p>5 rows × 25 columns</p>\n",
       "</div>"
      ],
      "text/plain": [
       "   Survived   Age     Fare  Pclass_1  Pclass_2  Pclass_3  Sex_female  \\\n",
       "0         0  22.0   7.2500         0         0         1           0   \n",
       "1         1  38.0  71.2833         1         0         0           1   \n",
       "2         1  26.0   7.9250         0         0         1           1   \n",
       "3         1  35.0  53.1000         1         0         0           1   \n",
       "4         0  35.0   8.0500         0         0         1           0   \n",
       "\n",
       "   Sex_male  SibSp_0  SibSp_1  ...  Parch_0  Parch_1  Parch_2  Parch_3  \\\n",
       "0         1        0        1  ...        1        0        0        0   \n",
       "1         0        0        1  ...        1        0        0        0   \n",
       "2         0        1        0  ...        1        0        0        0   \n",
       "3         0        0        1  ...        1        0        0        0   \n",
       "4         1        1        0  ...        1        0        0        0   \n",
       "\n",
       "   Parch_4  Parch_5  Parch_6  Embarked_C  Embarked_Q  Embarked_S  \n",
       "0        0        0        0           0           0           1  \n",
       "1        0        0        0           1           0           0  \n",
       "2        0        0        0           0           0           1  \n",
       "3        0        0        0           0           0           1  \n",
       "4        0        0        0           0           0           1  \n",
       "\n",
       "[5 rows x 25 columns]"
      ]
     },
     "execution_count": 3,
     "metadata": {},
     "output_type": "execute_result"
    }
   ],
   "source": [
    "data.head()"
   ]
  },
  {
   "cell_type": "code",
   "execution_count": 4,
   "metadata": {},
   "outputs": [
    {
     "data": {
      "text/plain": [
       "(891, 25)"
      ]
     },
     "execution_count": 4,
     "metadata": {},
     "output_type": "execute_result"
    }
   ],
   "source": [
    "data.shape"
   ]
  },
  {
   "cell_type": "code",
   "execution_count": 5,
   "metadata": {},
   "outputs": [
    {
     "data": {
      "text/plain": [
       "Survived      0\n",
       "Age           0\n",
       "Fare          0\n",
       "Pclass_1      0\n",
       "Pclass_2      0\n",
       "Pclass_3      0\n",
       "Sex_female    0\n",
       "Sex_male      0\n",
       "SibSp_0       0\n",
       "SibSp_1       0\n",
       "SibSp_2       0\n",
       "SibSp_3       0\n",
       "SibSp_4       0\n",
       "SibSp_5       0\n",
       "SibSp_8       0\n",
       "Parch_0       0\n",
       "Parch_1       0\n",
       "Parch_2       0\n",
       "Parch_3       0\n",
       "Parch_4       0\n",
       "Parch_5       0\n",
       "Parch_6       0\n",
       "Embarked_C    0\n",
       "Embarked_Q    0\n",
       "Embarked_S    0\n",
       "dtype: int64"
      ]
     },
     "execution_count": 5,
     "metadata": {},
     "output_type": "execute_result"
    }
   ],
   "source": [
    "data.isnull().sum()"
   ]
  },
  {
   "cell_type": "code",
   "execution_count": 6,
   "metadata": {},
   "outputs": [],
   "source": [
    "#seperating the dependent and independent var\n",
    "\n",
    "x = data.drop(['Survived'], axis=1)\n",
    "y = data['Survived']"
   ]
  },
  {
   "cell_type": "code",
   "execution_count": 31,
   "metadata": {},
   "outputs": [
    {
     "name": "stdout",
     "output_type": "stream",
     "text": [
      "training data :  (569, 24) (569,)\n",
      "val data      :  (143, 24) (143,)\n",
      "test data     :  (179, 24) (179,)\n"
     ]
    }
   ],
   "source": [
    "#creating validation set and test set\n",
    "\n",
    "from sklearn.model_selection import train_test_split\n",
    "x_train1, x_test,y_train1, y_test = train_test_split(x, y, test_size=0.2, random_state=50, stratify=None)\n",
    "x_train, x_val, y_train, y_val = train_test_split(x_train1, y_train1, test_size=0.2, random_state=51, stratify=None)\n",
    "print('training data : ',x_train.shape,y_train.shape)\n",
    "print('val data      : ',x_val.shape,y_val.shape)\n",
    "print('test data     : ',x_test.shape,y_test.shape)"
   ]
  },
  {
   "cell_type": "code",
   "execution_count": 37,
   "metadata": {},
   "outputs": [
    {
     "name": "stdout",
     "output_type": "stream",
     "text": [
      "0    0.639719\n",
      "1    0.360281\n",
      "Name: Survived, dtype: float64\n",
      "0    0.587413\n",
      "1    0.412587\n",
      "Name: Survived, dtype: float64\n",
      "0    0.564246\n",
      "1    0.435754\n",
      "Name: Survived, dtype: float64\n"
     ]
    }
   ],
   "source": [
    "#checkin for the distributions in target var in all sets\n",
    "print(y_train.value_counts()/len(y_train))\n",
    "print(y_val.value_counts()/len(y_val))\n",
    "print(y_test.value_counts()/len(y_test))\n",
    "\n",
    "#here in all the sets the distributionns are different"
   ]
  },
  {
   "cell_type": "markdown",
   "metadata": {},
   "source": [
    "# Stratified"
   ]
  },
  {
   "cell_type": "code",
   "execution_count": 46,
   "metadata": {},
   "outputs": [
    {
     "name": "stdout",
     "output_type": "stream",
     "text": [
      "training data :  (569, 24) (569,)\n",
      "val data      :  (143, 24) (143,)\n",
      "test data     :  (179, 24) (179,)\n"
     ]
    }
   ],
   "source": [
    "\n",
    "from sklearn.model_selection import train_test_split\n",
    "x_train1, x_test,y_train1, y_test = train_test_split(x, y, test_size=0.2, random_state=50, stratify=y)\n",
    "x_train, x_val, y_train, y_val = train_test_split(x_train1, y_train1, test_size=0.2, random_state=51, stratify=y_train1)\n",
    "print('training data : ',x_train.shape,y_train.shape)\n",
    "print('val data      : ',x_val.shape,y_val.shape)\n",
    "print('test data     : ',x_test.shape,y_test.shape)"
   ]
  },
  {
   "cell_type": "code",
   "execution_count": 47,
   "metadata": {},
   "outputs": [
    {
     "name": "stdout",
     "output_type": "stream",
     "text": [
      "0    0.616872\n",
      "1    0.383128\n",
      "Name: Survived, dtype: float64\n",
      "0    0.615385\n",
      "1    0.384615\n",
      "Name: Survived, dtype: float64\n",
      "0    0.614525\n",
      "1    0.385475\n",
      "Name: Survived, dtype: float64\n"
     ]
    }
   ],
   "source": [
    "#checkin for the distributions in target var in all sets\n",
    "print(y_train.value_counts()/len(y_train))\n",
    "print(y_val.value_counts()/len(y_val))\n",
    "print(y_test.value_counts()/len(y_test))\n",
    "\n",
    "#here the distribution of classes in all 3 cases are equal\n",
    "\n",
    "# we need to put some data during the traning time for val ,\n",
    "#which werent supposed to use in traning, so we use 'K fold cross val'"
   ]
  },
  {
   "cell_type": "markdown",
   "metadata": {},
   "source": [
    "# K Fold Cross Validation\n",
    "\n",
    "\n",
    "Procedure:\n",
    "shuffle the dataset randomly\n",
    "split the dataset into k groups\n",
    "    pick a group as a hold out\n",
    "    take the remaining groups as training and fit the model\n",
    "    predict and evaluate on the hold out\n",
    "repeat  until all the group are done\n",
    "\n",
    "Advantages:\n",
    "avoids overfitting\n",
    "consistency of model( since eval on mul models)\n",
    "\n",
    "Deciding k:\n",
    "\n",
    "5<k<10\n",
    "validation set = statistically significant\n",
    "\n",
    "k=2, 50-50 spit, high bias\n",
    "k>10, more data for traning ,more models\n",
    "k= no of observations--> leave one out( n instances , n models)\n",
    "considering one at a time\n",
    "\n",
    "used only for dataset with less than 100 instances\n",
    "\n",
    "--> leave p out \n"
   ]
  },
  {
   "cell_type": "code",
   "execution_count": 49,
   "metadata": {},
   "outputs": [
    {
     "data": {
      "text/plain": [
       "(891, 25)"
      ]
     },
     "execution_count": 49,
     "metadata": {},
     "output_type": "execute_result"
    }
   ],
   "source": [
    "data.shape"
   ]
  },
  {
   "cell_type": "code",
   "execution_count": 50,
   "metadata": {},
   "outputs": [],
   "source": [
    "x = data.drop(['Survived'], axis=1)\n",
    "y = data['Survived']"
   ]
  },
  {
   "cell_type": "code",
   "execution_count": 54,
   "metadata": {},
   "outputs": [
    {
     "data": {
      "text/plain": [
       "array([[-0.5924806 , -0.50244517, -0.56568542, ..., -0.48204268,\n",
       "        -0.30756234,  0.61583843],\n",
       "       [ 0.63878901,  0.78684529,  1.76776695, ...,  2.0745051 ,\n",
       "        -0.30756234, -1.62380254],\n",
       "       [-0.2846632 , -0.48885426, -0.56568542, ..., -0.48204268,\n",
       "        -0.30756234,  0.61583843],\n",
       "       ...,\n",
       "       [ 0.        , -0.17626324, -0.56568542, ..., -0.48204268,\n",
       "        -0.30756234,  0.61583843],\n",
       "       [-0.2846632 , -0.04438104,  1.76776695, ...,  2.0745051 ,\n",
       "        -0.30756234, -1.62380254],\n",
       "       [ 0.17706291, -0.49237783, -0.56568542, ..., -0.48204268,\n",
       "         3.25137334, -1.62380254]])"
      ]
     },
     "execution_count": 54,
     "metadata": {},
     "output_type": "execute_result"
    }
   ],
   "source": [
    "#scaling the data\n",
    "\n",
    "from sklearn.preprocessing import StandardScaler\n",
    "ss = StandardScaler()\n",
    "x = ss.fit_transform(x)"
   ]
  },
  {
   "cell_type": "code",
   "execution_count": 55,
   "metadata": {},
   "outputs": [],
   "source": [
    "from sklearn.model_selection import train_test_split as tts\n",
    "x_train, x_test, y_train, y_test = tts(x, y, random_state=96, stratify=y)"
   ]
  },
  {
   "cell_type": "code",
   "execution_count": 56,
   "metadata": {},
   "outputs": [],
   "source": [
    "#importing KNN clf and metric f1score\n",
    "\n",
    "from sklearn.neighbors import KNeighborsClassifier as KNN"
   ]
  },
  {
   "cell_type": "code",
   "execution_count": 59,
   "metadata": {},
   "outputs": [
    {
     "data": {
      "text/plain": [
       "array([0.68656716, 0.67164179, 0.7761194 , 0.73134328, 0.62686567,\n",
       "       0.71641791, 0.85074627, 0.79104478, 0.81818182, 0.6969697 ])"
      ]
     },
     "execution_count": 59,
     "metadata": {},
     "output_type": "execute_result"
    }
   ],
   "source": [
    "# K Fold is used to check the consistency of the model\n",
    "# for consistency we import the cross_val_score\n",
    "\n",
    "from sklearn.model_selection import cross_val_score as cvs\n",
    "score = cvs(KNN(n_neighbors = 1), X = x_train, y = y_train, cv = 10)\n",
    "score"
   ]
  },
  {
   "cell_type": "code",
   "execution_count": 60,
   "metadata": {},
   "outputs": [
    {
     "data": {
      "text/plain": [
       "(73.65897783808232, 6.706785119259538)"
      ]
     },
     "execution_count": 60,
     "metadata": {},
     "output_type": "execute_result"
    }
   ],
   "source": [
    "#consistency is checked using the standard deviation and mean\n",
    "\n",
    "score.mean()*100, score.std()*100\n",
    "\n",
    "#the values are obtained for the k values as 1 , they  might chaage if k changes"
   ]
  },
  {
   "cell_type": "code",
   "execution_count": 61,
   "metadata": {},
   "outputs": [],
   "source": [
    "# to find the best k valaues, such that we result in good consistency\n",
    "\n",
    "def Val_score(n_neighbors):\n",
    "    avg = []\n",
    "    std = []\n",
    "    \n",
    "    for i in n_neighbors:\n",
    "        # 10 folds cross validation for every value of n_neighbors\n",
    "        score = cvs(KNN(n_neighbors = i), X = x_train, y = y_train, cv = 10)\n",
    "        avg.append(score.mean())\n",
    "        std.append(score.std())\n",
    "    return avg, std\n",
    "        "
   ]
  },
  {
   "cell_type": "code",
   "execution_count": 63,
   "metadata": {},
   "outputs": [
    {
     "data": {
      "text/plain": [
       "[0.7365897783808232,\n",
       " 0.7485300768882859,\n",
       " 0.7709859791949344,\n",
       " 0.7755088195386703,\n",
       " 0.7665309814563546,\n",
       " 0.7725463591135233,\n",
       " 0.781524197195839,\n",
       " 0.7830393487109906,\n",
       " 0.7680235187697874,\n",
       " 0.784486657620986,\n",
       " 0.7784486657620986,\n",
       " 0.7874265038444143,\n",
       " 0.7754183627317957,\n",
       " 0.7889190411578472,\n",
       " 0.7725011307100861,\n",
       " 0.7829262777023971,\n",
       " 0.7754635911352329,\n",
       " 0.7844188150158299,\n",
       " 0.7799412030755314,\n",
       " 0.7754409769335143,\n",
       " 0.7739258254183627,\n",
       " 0.7754862053369516,\n",
       " 0.781456354590683,\n",
       " 0.7769335142469471,\n",
       " 0.7829262777023971,\n",
       " 0.7814337403889644,\n",
       " 0.7844414292175486,\n",
       " 0.7739936680235189,\n",
       " 0.7709633649932158,\n",
       " 0.7769561284486657,\n",
       " 0.7724785165083672,\n",
       " 0.7784486657620986,\n",
       " 0.7709633649932157,\n",
       " 0.7739484396200813,\n",
       " 0.7724559023066485,\n",
       " 0.7784712799638173,\n",
       " 0.7724559023066485,\n",
       " 0.7664631388511987,\n",
       " 0.7680009045680688,\n",
       " 0.7635232926277703,\n",
       " 0.7605156037991858,\n",
       " 0.7709859791949344,\n",
       " 0.7650158299412031,\n",
       " 0.7680235187697874,\n",
       " 0.7590456806874718,\n",
       " 0.7665762098597919,\n",
       " 0.7560606060606061,\n",
       " 0.7695386702849389,\n",
       " 0.7605608322026233]"
      ]
     },
     "execution_count": 63,
     "metadata": {},
     "output_type": "execute_result"
    }
   ],
   "source": [
    "n_neighbors = range(1,50)\n",
    "mean, std = Val_score(n_neighbors)\n",
    "mean"
   ]
  },
  {
   "cell_type": "code",
   "execution_count": 66,
   "metadata": {},
   "outputs": [
    {
     "data": {
      "text/plain": [
       "Text(0.5, 1.0, 'Validation scores for mean and std')"
      ]
     },
     "execution_count": 66,
     "metadata": {},
     "output_type": "execute_result"
    },
    {
     "data": {
      "image/png": "[encoded data removed]",
      "text/plain": [
       "<Figure size 432x288 with 1 Axes>"
      ]
     },
     "metadata": {
      "needs_background": "light"
     },
     "output_type": "display_data"
    }
   ],
   "source": [
    "# plotting the mean validation score for each k\n",
    "plt.plot(n_neighbors[10:20], mean[10:20], color ='green', label ='mean')\n",
    "plt.plot(n_neighbors[10:20], std[10:20], color = 'red', label = 'std')\n",
    "plt.xlabel('neighbors')\n",
    "plt.ylabel('consistency measure')\n",
    "plt.title('Validation scores for mean and std')"
   ]
  },
  {
   "cell_type": "code",
   "execution_count": 75,
   "metadata": {},
   "outputs": [
    {
     "data": {
      "text/plain": [
       "(0.811377245508982, 0.8161434977578476)"
      ]
     },
     "execution_count": 75,
     "metadata": {},
     "output_type": "execute_result"
    }
   ],
   "source": [
    "#\n",
    "clf =KNN(n_neighbors = 14)\n",
    "clf.fit(x_train, y_train)\n",
    "score1 = clf.score(x_train, y_train)\n",
    "score = clf.score(x_test, y_test)\n",
    "score1, score"
   ]
  },
  {
   "cell_type": "code",
   "execution_count": null,
   "metadata": {},
   "outputs": [],
   "source": [
    "2014/"
   ]
  }
 ],
 "metadata": {
  "kernelspec": {
   "display_name": "Python 3",
   "language": "python",
   "name": "python3"
  },
  "language_info": {
   "codemirror_mode": {
    "name": "ipython",
    "version": 3
   },
   "file_extension": ".py",
   "mimetype": "text/x-python",
   "name": "python",
   "nbconvert_exporter": "python",
   "pygments_lexer": "ipython3",
   "version": "3.7.4"
  }
 },
 "nbformat": 4,
 "nbformat_minor": 2
}
