{
  "nbformat": 4,
  "nbformat_minor": 0,
  "metadata": {
    "colab": {
      "name": "Random forest.ipynb",
      "provenance": [],
      "authorship_tag": "ABX9TyOdV+BMsv7xfGbN7tvMDZw1",
      "include_colab_link": true
    },
    "kernelspec": {
      "name": "python3",
      "display_name": "Python 3"
    }
  },
  "cells": [
    {
      "cell_type": "markdown",
      "metadata": {
        "id": "view-in-github",
        "colab_type": "text"
      },
      "source": [
        "<a href=\"https://colab.research.google.com/github/AdicherlaVenkataSai/InternshalaML/blob/master/Random_forest.ipynb\" target=\"_parent\"><img src=\"https://colab.research.google.com/assets/colab-badge.svg\" alt=\"Open In Colab\"/></a>"
      ]
    },
    {
      "cell_type": "markdown",
      "metadata": {
        "id": "VCkw2QK8VgZw",
        "colab_type": "text"
      },
      "source": [
        "# BootStrap sampling\n",
        "\n",
        "\n",
        "data ---> bootstrp ----> bagging(averaging)\n",
        "\n",
        "no of models = no of bootstraps\n",
        "\n",
        "random forest? , bcz of random bootstrap  models(partial)\n",
        "random sampling of features,  the random samples of nodes is done tree level so every tree will get diff subset of data points. feature sampling is done node level not on tree level\n",
        "\n",
        "\n",
        "\n"
      ]
    },
    {
      "cell_type": "markdown",
      "metadata": {
        "id": "CpFpoHOoXiSW",
        "colab_type": "text"
      },
      "source": [
        "## bagging\n",
        "\n",
        "\n",
        "no of models = no of bootstraps samples\n",
        "\n",
        "Every tree will get different subsets, each decision is made on subset of features set but not on all as in case of decision tree, every node has some set of feature subsets which are used for best split at the respective node\n",
        "\n",
        "Random forest can be used for both classification as well as regression problems."
      ]
    },
    {
      "cell_type": "markdown",
      "metadata": {
        "id": "GBsY7N0FYg-u",
        "colab_type": "text"
      },
      "source": [
        "## hyperparameters of randomforest\n",
        "\n",
        "\n",
        "no of feautres\n",
        "\n",
        "no of trees : n_estimaters\n",
        "\n",
        "no of param at tree level: \n",
        "  1. max features\n",
        "  2. depth of the tree\n",
        "  3. min smaples leaf \n",
        "  4. min samples split\n",
        "  5. criterion\n",
        "  6. n_estimators\n",
        "\n"
      ]
    },
    {
      "cell_type": "markdown",
      "metadata": {
        "id": "AJqqqyHnfL0L",
        "colab_type": "text"
      },
      "source": [
        "## implemetation"
      ]
    },
    {
      "cell_type": "code",
      "metadata": {
        "id": "OxY2PZnjVTLA",
        "colab_type": "code",
        "colab": {}
      },
      "source": [
        "# importing datasets and libraries\n",
        "\n",
        "import pandas as pd\n",
        "import numpy as np\n",
        "\n",
        "\n",
        "data = pd.read_csv('data_cleaned.csv')"
      ],
      "execution_count": 0,
      "outputs": []
    },
    {
      "cell_type": "code",
      "metadata": {
        "id": "sIA1w9Buh2YZ",
        "colab_type": "code",
        "outputId": "46df831a-1c4e-4127-bf63-75b28fbcbff4",
        "colab": {
          "base_uri": "https://localhost:8080/",
          "height": 34
        }
      },
      "source": [
        "data.shape"
      ],
      "execution_count": 0,
      "outputs": [
        {
          "output_type": "execute_result",
          "data": {
            "text/plain": [
              "(891, 25)"
            ]
          },
          "metadata": {
            "tags": []
          },
          "execution_count": 2
        }
      ]
    },
    {
      "cell_type": "code",
      "metadata": {
        "id": "pNNfqiDnh6lC",
        "colab_type": "code",
        "outputId": "988980ad-ef8f-4004-c56f-14ea0bedb372",
        "colab": {
          "base_uri": "https://localhost:8080/",
          "height": 224
        }
      },
      "source": [
        "data.head()"
      ],
      "execution_count": 0,
      "outputs": [
        {
          "output_type": "execute_result",
          "data": {
            "text/html": [
              "<div>\n",
              "<style scoped>\n",
              "    .dataframe tbody tr th:only-of-type {\n",
              "        vertical-align: middle;\n",
              "    }\n",
              "\n",
              "    .dataframe tbody tr th {\n",
              "        vertical-align: top;\n",
              "    }\n",
              "\n",
              "    .dataframe thead th {\n",
              "        text-align: right;\n",
              "    }\n",
              "</style>\n",
              "<table border=\"1\" class=\"dataframe\">\n",
              "  <thead>\n",
              "    <tr style=\"text-align: right;\">\n",
              "      <th></th>\n",
              "      <th>Survived</th>\n",
              "      <th>Age</th>\n",
              "      <th>Fare</th>\n",
              "      <th>Pclass_1</th>\n",
              "      <th>Pclass_2</th>\n",
              "      <th>Pclass_3</th>\n",
              "      <th>Sex_female</th>\n",
              "      <th>Sex_male</th>\n",
              "      <th>SibSp_0</th>\n",
              "      <th>SibSp_1</th>\n",
              "      <th>SibSp_2</th>\n",
              "      <th>SibSp_3</th>\n",
              "      <th>SibSp_4</th>\n",
              "      <th>SibSp_5</th>\n",
              "      <th>SibSp_8</th>\n",
              "      <th>Parch_0</th>\n",
              "      <th>Parch_1</th>\n",
              "      <th>Parch_2</th>\n",
              "      <th>Parch_3</th>\n",
              "      <th>Parch_4</th>\n",
              "      <th>Parch_5</th>\n",
              "      <th>Parch_6</th>\n",
              "      <th>Embarked_C</th>\n",
              "      <th>Embarked_Q</th>\n",
              "      <th>Embarked_S</th>\n",
              "    </tr>\n",
              "  </thead>\n",
              "  <tbody>\n",
              "    <tr>\n",
              "      <th>0</th>\n",
              "      <td>0</td>\n",
              "      <td>22.0</td>\n",
              "      <td>7.2500</td>\n",
              "      <td>0</td>\n",
              "      <td>0</td>\n",
              "      <td>1</td>\n",
              "      <td>0</td>\n",
              "      <td>1</td>\n",
              "      <td>0</td>\n",
              "      <td>1</td>\n",
              "      <td>0</td>\n",
              "      <td>0</td>\n",
              "      <td>0</td>\n",
              "      <td>0</td>\n",
              "      <td>0</td>\n",
              "      <td>1</td>\n",
              "      <td>0</td>\n",
              "      <td>0</td>\n",
              "      <td>0</td>\n",
              "      <td>0</td>\n",
              "      <td>0</td>\n",
              "      <td>0</td>\n",
              "      <td>0</td>\n",
              "      <td>0</td>\n",
              "      <td>1</td>\n",
              "    </tr>\n",
              "    <tr>\n",
              "      <th>1</th>\n",
              "      <td>1</td>\n",
              "      <td>38.0</td>\n",
              "      <td>71.2833</td>\n",
              "      <td>1</td>\n",
              "      <td>0</td>\n",
              "      <td>0</td>\n",
              "      <td>1</td>\n",
              "      <td>0</td>\n",
              "      <td>0</td>\n",
              "      <td>1</td>\n",
              "      <td>0</td>\n",
              "      <td>0</td>\n",
              "      <td>0</td>\n",
              "      <td>0</td>\n",
              "      <td>0</td>\n",
              "      <td>1</td>\n",
              "      <td>0</td>\n",
              "      <td>0</td>\n",
              "      <td>0</td>\n",
              "      <td>0</td>\n",
              "      <td>0</td>\n",
              "      <td>0</td>\n",
              "      <td>1</td>\n",
              "      <td>0</td>\n",
              "      <td>0</td>\n",
              "    </tr>\n",
              "    <tr>\n",
              "      <th>2</th>\n",
              "      <td>1</td>\n",
              "      <td>26.0</td>\n",
              "      <td>7.9250</td>\n",
              "      <td>0</td>\n",
              "      <td>0</td>\n",
              "      <td>1</td>\n",
              "      <td>1</td>\n",
              "      <td>0</td>\n",
              "      <td>1</td>\n",
              "      <td>0</td>\n",
              "      <td>0</td>\n",
              "      <td>0</td>\n",
              "      <td>0</td>\n",
              "      <td>0</td>\n",
              "      <td>0</td>\n",
              "      <td>1</td>\n",
              "      <td>0</td>\n",
              "      <td>0</td>\n",
              "      <td>0</td>\n",
              "      <td>0</td>\n",
              "      <td>0</td>\n",
              "      <td>0</td>\n",
              "      <td>0</td>\n",
              "      <td>0</td>\n",
              "      <td>1</td>\n",
              "    </tr>\n",
              "    <tr>\n",
              "      <th>3</th>\n",
              "      <td>1</td>\n",
              "      <td>35.0</td>\n",
              "      <td>53.1000</td>\n",
              "      <td>1</td>\n",
              "      <td>0</td>\n",
              "      <td>0</td>\n",
              "      <td>1</td>\n",
              "      <td>0</td>\n",
              "      <td>0</td>\n",
              "      <td>1</td>\n",
              "      <td>0</td>\n",
              "      <td>0</td>\n",
              "      <td>0</td>\n",
              "      <td>0</td>\n",
              "      <td>0</td>\n",
              "      <td>1</td>\n",
              "      <td>0</td>\n",
              "      <td>0</td>\n",
              "      <td>0</td>\n",
              "      <td>0</td>\n",
              "      <td>0</td>\n",
              "      <td>0</td>\n",
              "      <td>0</td>\n",
              "      <td>0</td>\n",
              "      <td>1</td>\n",
              "    </tr>\n",
              "    <tr>\n",
              "      <th>4</th>\n",
              "      <td>0</td>\n",
              "      <td>35.0</td>\n",
              "      <td>8.0500</td>\n",
              "      <td>0</td>\n",
              "      <td>0</td>\n",
              "      <td>1</td>\n",
              "      <td>0</td>\n",
              "      <td>1</td>\n",
              "      <td>1</td>\n",
              "      <td>0</td>\n",
              "      <td>0</td>\n",
              "      <td>0</td>\n",
              "      <td>0</td>\n",
              "      <td>0</td>\n",
              "      <td>0</td>\n",
              "      <td>1</td>\n",
              "      <td>0</td>\n",
              "      <td>0</td>\n",
              "      <td>0</td>\n",
              "      <td>0</td>\n",
              "      <td>0</td>\n",
              "      <td>0</td>\n",
              "      <td>0</td>\n",
              "      <td>0</td>\n",
              "      <td>1</td>\n",
              "    </tr>\n",
              "  </tbody>\n",
              "</table>\n",
              "</div>"
            ],
            "text/plain": [
              "   Survived   Age     Fare  ...  Embarked_C  Embarked_Q  Embarked_S\n",
              "0         0  22.0   7.2500  ...           0           0           1\n",
              "1         1  38.0  71.2833  ...           1           0           0\n",
              "2         1  26.0   7.9250  ...           0           0           1\n",
              "3         1  35.0  53.1000  ...           0           0           1\n",
              "4         0  35.0   8.0500  ...           0           0           1\n",
              "\n",
              "[5 rows x 25 columns]"
            ]
          },
          "metadata": {
            "tags": []
          },
          "execution_count": 3
        }
      ]
    },
    {
      "cell_type": "code",
      "metadata": {
        "id": "j3vw8jRth8VN",
        "colab_type": "code",
        "outputId": "dbc01139-7ab9-407b-d5cc-6315b19fbd3d",
        "colab": {
          "base_uri": "https://localhost:8080/",
          "height": 459
        }
      },
      "source": [
        "data.isnull().sum()"
      ],
      "execution_count": 0,
      "outputs": [
        {
          "output_type": "execute_result",
          "data": {
            "text/plain": [
              "Survived      0\n",
              "Age           0\n",
              "Fare          0\n",
              "Pclass_1      0\n",
              "Pclass_2      0\n",
              "Pclass_3      0\n",
              "Sex_female    0\n",
              "Sex_male      0\n",
              "SibSp_0       0\n",
              "SibSp_1       0\n",
              "SibSp_2       0\n",
              "SibSp_3       0\n",
              "SibSp_4       0\n",
              "SibSp_5       0\n",
              "SibSp_8       0\n",
              "Parch_0       0\n",
              "Parch_1       0\n",
              "Parch_2       0\n",
              "Parch_3       0\n",
              "Parch_4       0\n",
              "Parch_5       0\n",
              "Parch_6       0\n",
              "Embarked_C    0\n",
              "Embarked_Q    0\n",
              "Embarked_S    0\n",
              "dtype: int64"
            ]
          },
          "metadata": {
            "tags": []
          },
          "execution_count": 4
        }
      ]
    },
    {
      "cell_type": "code",
      "metadata": {
        "id": "ezPQe3vrh_yh",
        "colab_type": "code",
        "outputId": "5c816ce5-17ef-462b-f85a-4981faf16cfc",
        "colab": {
          "base_uri": "https://localhost:8080/",
          "height": 459
        }
      },
      "source": [
        "data.dtypes"
      ],
      "execution_count": 0,
      "outputs": [
        {
          "output_type": "execute_result",
          "data": {
            "text/plain": [
              "Survived        int64\n",
              "Age           float64\n",
              "Fare          float64\n",
              "Pclass_1        int64\n",
              "Pclass_2        int64\n",
              "Pclass_3        int64\n",
              "Sex_female      int64\n",
              "Sex_male        int64\n",
              "SibSp_0         int64\n",
              "SibSp_1         int64\n",
              "SibSp_2         int64\n",
              "SibSp_3         int64\n",
              "SibSp_4         int64\n",
              "SibSp_5         int64\n",
              "SibSp_8         int64\n",
              "Parch_0         int64\n",
              "Parch_1         int64\n",
              "Parch_2         int64\n",
              "Parch_3         int64\n",
              "Parch_4         int64\n",
              "Parch_5         int64\n",
              "Parch_6         int64\n",
              "Embarked_C      int64\n",
              "Embarked_Q      int64\n",
              "Embarked_S      int64\n",
              "dtype: object"
            ]
          },
          "metadata": {
            "tags": []
          },
          "execution_count": 5
        }
      ]
    },
    {
      "cell_type": "code",
      "metadata": {
        "id": "bRg4JIDKiBbN",
        "colab_type": "code",
        "colab": {}
      },
      "source": [
        "# seperating independent and dependent var\n",
        "\n",
        "x = data.drop(['Survived'], axis =1 )\n",
        "y = data['Survived']"
      ],
      "execution_count": 0,
      "outputs": []
    },
    {
      "cell_type": "code",
      "metadata": {
        "id": "Ss1tQQsAiPFp",
        "colab_type": "code",
        "outputId": "df2e7c18-2a64-4229-ff24-72d009e0c8ce",
        "colab": {
          "base_uri": "https://localhost:8080/",
          "height": 34
        }
      },
      "source": [
        "# splitting\n",
        "\n",
        "from sklearn.model_selection import train_test_split\n",
        "\n",
        "x_train, x_test, y_train, y_test = train_test_split(x, y, random_state = 101, stratify = y )\n",
        "x_train.shape, x_test.shape, y_train.shape, y_test.shape"
      ],
      "execution_count": 0,
      "outputs": [
        {
          "output_type": "execute_result",
          "data": {
            "text/plain": [
              "((668, 24), (223, 24), (668,), (223,))"
            ]
          },
          "metadata": {
            "tags": []
          },
          "execution_count": 8
        }
      ]
    },
    {
      "cell_type": "code",
      "metadata": {
        "id": "z-bBDrlSilxz",
        "colab_type": "code",
        "outputId": "6123dffa-d601-492c-a317-d09d37a5bbb5",
        "colab": {
          "base_uri": "https://localhost:8080/",
          "height": 68
        }
      },
      "source": [
        "# checking stratified split\n",
        "\n",
        "y_train.value_counts()/len(y_train)"
      ],
      "execution_count": 0,
      "outputs": [
        {
          "output_type": "execute_result",
          "data": {
            "text/plain": [
              "0    0.616766\n",
              "1    0.383234\n",
              "Name: Survived, dtype: float64"
            ]
          },
          "metadata": {
            "tags": []
          },
          "execution_count": 9
        }
      ]
    },
    {
      "cell_type": "code",
      "metadata": {
        "id": "YxsYuUg2jCp8",
        "colab_type": "code",
        "outputId": "1ae9e1ed-7744-4bec-bd32-be77751644e3",
        "colab": {
          "base_uri": "https://localhost:8080/",
          "height": 68
        }
      },
      "source": [
        "y_test.value_counts()/len(y_test)"
      ],
      "execution_count": 0,
      "outputs": [
        {
          "output_type": "execute_result",
          "data": {
            "text/plain": [
              "0    0.61435\n",
              "1    0.38565\n",
              "Name: Survived, dtype: float64"
            ]
          },
          "metadata": {
            "tags": []
          },
          "execution_count": 10
        }
      ]
    },
    {
      "cell_type": "markdown",
      "metadata": {
        "id": "BSESdYevqXxq",
        "colab_type": "text"
      },
      "source": [
        "### RandomForestClassifier"
      ]
    },
    {
      "cell_type": "code",
      "metadata": {
        "id": "eN3_SRCKjIdn",
        "colab_type": "code",
        "outputId": "77a7533a-aee6-448f-a5e5-a30a24113203",
        "colab": {
          "base_uri": "https://localhost:8080/",
          "height": 153
        }
      },
      "source": [
        "# importing decision tree clasifier \n",
        "from sklearn.tree import DecisionTreeClassifier\n",
        "\n",
        "#instance, fit the model\n",
        "clf = DecisionTreeClassifier()\n",
        "print(clf.fit(x_train, y_train))\n",
        "\n",
        "\n",
        "# accuracy of train and test\n",
        "print(clf.score(x_train, y_train))\n",
        "print(clf.score(x_test, y_test))"
      ],
      "execution_count": 0,
      "outputs": [
        {
          "output_type": "stream",
          "text": [
            "DecisionTreeClassifier(ccp_alpha=0.0, class_weight=None, criterion='gini',\n",
            "                       max_depth=None, max_features=None, max_leaf_nodes=None,\n",
            "                       min_impurity_decrease=0.0, min_impurity_split=None,\n",
            "                       min_samples_leaf=1, min_samples_split=2,\n",
            "                       min_weight_fraction_leaf=0.0, presort='deprecated',\n",
            "                       random_state=None, splitter='best')\n",
            "0.9880239520958084\n",
            "0.7623318385650224\n"
          ],
          "name": "stdout"
        }
      ]
    },
    {
      "cell_type": "code",
      "metadata": {
        "id": "ruwRraAOjdx7",
        "colab_type": "code",
        "outputId": "9dd0ea05-d99f-4582-ea99-cc2ce77b40d7",
        "colab": {
          "base_uri": "https://localhost:8080/",
          "height": 187
        }
      },
      "source": [
        "# importing random forest classifier \n",
        "from sklearn.ensemble import RandomForestClassifier\n",
        "\n",
        "#instance, fit the model\n",
        "clf1 = RandomForestClassifier(n_estimators=100, max_depth = 12)\n",
        "print(clf1.fit(x_train, y_train))\n",
        "\n",
        "# accuracy of train and test\n",
        "print(clf1.score(x_train, y_train))\n",
        "print(clf1.score(x_test, y_test))"
      ],
      "execution_count": 0,
      "outputs": [
        {
          "output_type": "stream",
          "text": [
            "RandomForestClassifier(bootstrap=True, ccp_alpha=0.0, class_weight=None,\n",
            "                       criterion='gini', max_depth=12, max_features='auto',\n",
            "                       max_leaf_nodes=None, max_samples=None,\n",
            "                       min_impurity_decrease=0.0, min_impurity_split=None,\n",
            "                       min_samples_leaf=1, min_samples_split=2,\n",
            "                       min_weight_fraction_leaf=0.0, n_estimators=100,\n",
            "                       n_jobs=None, oob_score=False, random_state=None,\n",
            "                       verbose=0, warm_start=False)\n",
            "0.9625748502994012\n",
            "0.7713004484304933\n"
          ],
          "name": "stdout"
        }
      ]
    },
    {
      "cell_type": "markdown",
      "metadata": {
        "id": "mOc0Y6fIlCBf",
        "colab_type": "text"
      },
      "source": [
        "max features  = auto ---> which is taking sqrt of features\n",
        "\n",
        "n_jobs = no of cores ----> if = -1 then all the cores are used  by random forest classifier\n",
        "\n",
        "\n",
        "by changing the parameters we can see change in the accuracy"
      ]
    },
    {
      "cell_type": "code",
      "metadata": {
        "id": "azFVGDKljvOp",
        "colab_type": "code",
        "outputId": "2ec70ee8-2593-4894-8530-4fa8cd39e6b6",
        "colab": {
          "base_uri": "https://localhost:8080/",
          "height": 510
        }
      },
      "source": [
        "# feature importance for the classifier\n",
        "print(clf1.feature_importances_)\n",
        "print(pd.Series(clf1.feature_importances_, index = x_train.columns))"
      ],
      "execution_count": 0,
      "outputs": [
        {
          "output_type": "stream",
          "text": [
            "[0.19504933 0.21705607 0.02752758 0.01892251 0.05681247 0.16949834\n",
            " 0.16918962 0.01707052 0.01698221 0.00593496 0.00508917 0.00430566\n",
            " 0.00063812 0.00446821 0.01968691 0.01402906 0.0103654  0.00146808\n",
            " 0.00289551 0.00317574 0.00032447 0.01407837 0.01011679 0.01531491]\n",
            "Age           0.195049\n",
            "Fare          0.217056\n",
            "Pclass_1      0.027528\n",
            "Pclass_2      0.018923\n",
            "Pclass_3      0.056812\n",
            "Sex_female    0.169498\n",
            "Sex_male      0.169190\n",
            "SibSp_0       0.017071\n",
            "SibSp_1       0.016982\n",
            "SibSp_2       0.005935\n",
            "SibSp_3       0.005089\n",
            "SibSp_4       0.004306\n",
            "SibSp_5       0.000638\n",
            "SibSp_8       0.004468\n",
            "Parch_0       0.019687\n",
            "Parch_1       0.014029\n",
            "Parch_2       0.010365\n",
            "Parch_3       0.001468\n",
            "Parch_4       0.002896\n",
            "Parch_5       0.003176\n",
            "Parch_6       0.000324\n",
            "Embarked_C    0.014078\n",
            "Embarked_Q    0.010117\n",
            "Embarked_S    0.015315\n",
            "dtype: float64\n"
          ],
          "name": "stdout"
        }
      ]
    },
    {
      "cell_type": "markdown",
      "metadata": {
        "id": "ofq7CAsCqeKF",
        "colab_type": "text"
      },
      "source": [
        "### RandomForestRegressor"
      ]
    },
    {
      "cell_type": "code",
      "metadata": {
        "id": "AOGUYznHr_px",
        "colab_type": "code",
        "colab": {
          "base_uri": "https://localhost:8080/",
          "height": 34
        },
        "outputId": "124ba044-cab4-410e-b066-02fcd99caf5c"
      },
      "source": [
        "# seperating independent and dependent var\n",
        "\n",
        "x = data.drop(['Survived'], axis =1 )\n",
        "y = data['Survived']\n",
        "\n",
        "\n",
        "# splitting\n",
        "\n",
        "from sklearn.model_selection import train_test_split\n",
        "\n",
        "x_train, x_test, y_train, y_test = train_test_split(x, y, random_state = 10 )\n",
        "x_train.shape, x_test.shape, y_train.shape, y_test.shape"
      ],
      "execution_count": 24,
      "outputs": [
        {
          "output_type": "execute_result",
          "data": {
            "text/plain": [
              "((668, 24), (223, 24), (668,), (223,))"
            ]
          },
          "metadata": {
            "tags": []
          },
          "execution_count": 24
        }
      ]
    },
    {
      "cell_type": "code",
      "metadata": {
        "id": "q0MOIGndpmUG",
        "colab_type": "code",
        "outputId": "d65eaf30-f706-42e6-9fbd-a316df577c74",
        "colab": {
          "base_uri": "https://localhost:8080/",
          "height": 153
        }
      },
      "source": [
        "from sklearn.tree import DecisionTreeRegressor\n",
        "\n",
        "reg = DecisionTreeRegressor()\n",
        "print(reg.fit(x_train, y_train))\n",
        "\n",
        "print(reg.score(x_train, y_train))\n",
        "print(reg.score(x_test, y_test))\n",
        "\n"
      ],
      "execution_count": 28,
      "outputs": [
        {
          "output_type": "stream",
          "text": [
            "DecisionTreeRegressor(ccp_alpha=0.0, criterion='mse', max_depth=None,\n",
            "                      max_features=None, max_leaf_nodes=None,\n",
            "                      min_impurity_decrease=0.0, min_impurity_split=None,\n",
            "                      min_samples_leaf=1, min_samples_split=2,\n",
            "                      min_weight_fraction_leaf=0.0, presort='deprecated',\n",
            "                      random_state=None, splitter='best')\n",
            "0.9635593960024439\n",
            "0.02470213231491425\n"
          ],
          "name": "stdout"
        }
      ]
    },
    {
      "cell_type": "code",
      "metadata": {
        "id": "QQDjcPS3rFX4",
        "colab_type": "code",
        "colab": {
          "base_uri": "https://localhost:8080/",
          "height": 231
        },
        "outputId": "f4152e26-976f-4ab3-c637-d7943362d207"
      },
      "source": [
        "from sklearn.ensemble import RandomForestRegressor\n",
        "\n",
        "reg1 = RandomForestRegressor\n",
        "print(reg1.fit(x_train, y_train))\n",
        "\n",
        "reg1.score(x_test, y_test)\n"
      ],
      "execution_count": 30,
      "outputs": [
        {
          "output_type": "error",
          "ename": "TypeError",
          "evalue": "ignored",
          "traceback": [
            "\u001b[0;31m---------------------------------------------------------------------------\u001b[0m",
            "\u001b[0;31mTypeError\u001b[0m                                 Traceback (most recent call last)",
            "\u001b[0;32m<ipython-input-30-cb359328224d>\u001b[0m in \u001b[0;36m<module>\u001b[0;34m()\u001b[0m\n\u001b[1;32m      2\u001b[0m \u001b[0;34m\u001b[0m\u001b[0m\n\u001b[1;32m      3\u001b[0m \u001b[0mreg1\u001b[0m \u001b[0;34m=\u001b[0m \u001b[0mRandomForestRegressor\u001b[0m\u001b[0;34m\u001b[0m\u001b[0;34m\u001b[0m\u001b[0m\n\u001b[0;32m----> 4\u001b[0;31m \u001b[0mprint\u001b[0m\u001b[0;34m(\u001b[0m\u001b[0mreg1\u001b[0m\u001b[0;34m.\u001b[0m\u001b[0mfit\u001b[0m\u001b[0;34m(\u001b[0m\u001b[0mx_train\u001b[0m\u001b[0;34m,\u001b[0m \u001b[0my_train\u001b[0m\u001b[0;34m)\u001b[0m\u001b[0;34m)\u001b[0m\u001b[0;34m\u001b[0m\u001b[0;34m\u001b[0m\u001b[0m\n\u001b[0m\u001b[1;32m      5\u001b[0m \u001b[0;34m\u001b[0m\u001b[0m\n\u001b[1;32m      6\u001b[0m \u001b[0mreg1\u001b[0m\u001b[0;34m.\u001b[0m\u001b[0mscore\u001b[0m\u001b[0;34m(\u001b[0m\u001b[0mx_test\u001b[0m\u001b[0;34m,\u001b[0m \u001b[0my_test\u001b[0m\u001b[0;34m)\u001b[0m\u001b[0;34m\u001b[0m\u001b[0;34m\u001b[0m\u001b[0m\n",
            "\u001b[0;31mTypeError\u001b[0m: fit() missing 1 required positional argument: 'y'"
          ]
        }
      ]
    },
    {
      "cell_type": "code",
      "metadata": {
        "id": "Ilpse2hCsYHi",
        "colab_type": "code",
        "colab": {}
      },
      "source": [
        ""
      ],
      "execution_count": 0,
      "outputs": []
    }
  ]
}