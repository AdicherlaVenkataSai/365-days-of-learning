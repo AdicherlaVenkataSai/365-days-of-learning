{
  "nbformat": 4,
  "nbformat_minor": 0,
  "metadata": {
    "colab": {
      "name": "1.  week.ipynb",
      "provenance": [],
      "collapsed_sections": [],
      "authorship_tag": "ABX9TyNh9wjqsW2yWuyEnhQtRp+t",
      "include_colab_link": true
    },
    "kernelspec": {
      "name": "python3",
      "display_name": "Python 3"
    }
  },
  "cells": [
    {
      "cell_type": "markdown",
      "metadata": {
        "id": "view-in-github",
        "colab_type": "text"
      },
      "source": [
        "<a href=\"https://colab.research.google.com/github/AdicherlaVenkataSai/365-days-of-learning/blob/master/1%20week.ipynb\" target=\"_parent\"><img src=\"https://colab.research.google.com/assets/colab-badge.svg\" alt=\"Open In Colab\"/></a>"
      ]
    },
    {
      "cell_type": "markdown",
      "metadata": {
        "id": "4-zQd4-0aEC1",
        "colab_type": "text"
      },
      "source": [
        "# 1 DAY | 22 august\n",
        "Question : In which situtations we use max pooling , avg pooling and global pooling \n",
        "\n",
        "[info source](https://medium.com/@bdhuma/which-pooling-method-is-better-maxpooling-vs-minpooling-vs-average-pooling-95fb03f45a9)\n",
        "\n",
        "Doubts:\n",
        "\n",
        "1. Pooling is performed in neural networks to reduce variance and computation complexity.\n",
        "-  How do pooling reduce the variance? : ....\n",
        "-  Computation complexity : (max/avg)pooling to take out the (max/avg) of the respective pool size. In turn the actual size will be reduced | [max pool](https://www.google.com/search?q=pooling+example&safe=active&sxsrf=ALeKk00wwfkTo2zLzt8Nrmav69kceyEVjQ:1598118877019&source=lnms&tbm=isch&sa=X&ved=2ahUKEwjBx-TfsK_rAhWcILcAHRLuC0YQ_AUoAXoECA4QAw&biw=655&bih=656#imgrc=fVc385NgNaXtYM) | [min pooling](https://www.google.com/search?q=minimum+pooling&tbm=isch&ved=2ahUKEwj9gLeTsq_rAhUvFLcAHYI8A_kQ2-cCegQIABAA&oq=minimum+pooling&gs_lcp=CgNpbWcQAzIECAAQGFDErwFYvcgBYK3LAWgAcAB4AIABeYgB2wOSAQMwLjSYAQCgAQGqAQtnd3Mtd2l6LWltZ8ABAQ&sclient=img&ei=VV1BX72CLq-o3LUPgvmMyA8&bih=656&biw=655&safe=active#imgrc=NGaTI4Uv1Fj3MM) | [avg pool](https://www.google.com/search?q=average+pooling&safe=active&sxsrf=ALeKk017sn_A1Ubxl_3fAhIA6Mi448oDSA:1598119339138&source=lnms&tbm=isch&sa=X&ved=2ahUKEwj6jpK8sq_rAhVE6XMBHTs3CI8Q_AUoAXoECBAQAw&biw=1326&bih=669#imgrc=0pjSLzG3v_SP9M).\n",
        "\n",
        "2. The batch here means a group of pixels of size equal to the filter size which is decided based on the size of the image. In the following example, a filter of 9x9 is chosen. The output of the pooling method varies with the varying value of the filter size.--> didnot understood\n",
        "\n",
        "- we can' say which pooling technique to use, it all depends on the data | [min max avg pool difference](https://www.google.com/search?q=min+max+pooling+example&tbm=isch&ved=2ahUKEwjv4Ivls6_rAhVHNLcAHZbDBz0Q2-cCegQIABAA&oq=min+max+pooling+example&gs_lcp=CgNpbWcQAzoGCAAQBxAeOggIABAIEAcQHlCiOlihYmC2Y2gEcAB4AIABhgGIAboJkgEEMC4xMJgBAKABAaoBC2d3cy13aXotaW1nwAEB&sclient=img&ei=DV9BX6-mG8fo3LUPloef6AM&bih=669&biw=1326&safe=active#imgrc=y0pi3xPu0K9r1M)\n",
        "\n",
        ">  Don't blindly use the pooling method.\n",
        "\n",
        "\n",
        "\n",
        "\n",
        "Note: The details/ conclusions are made based on my learning.\n"
      ]
    },
    {
      "cell_type": "markdown",
      "metadata": {
        "id": "-T1KeU8tagyd",
        "colab_type": "text"
      },
      "source": [
        "# 2 DAY | 23 august\n",
        "\n",
        "Xavier initialization ?\n",
        "does regularization improves the results? if how?\n",
        "check links for more info:\n",
        "1. https://www.quora.com/2What-is-an-intuitive-explanation-of-the-Xavier-Initialization-for-Deep-Neural-Networks\n",
        "2. https://andyljones.tumblr.com/post/110998971763/an-explanation-of-xavier-initialization\n",
        "3. http://proceedings.mlr.press/v9/glorot10a/glorot10a.pdfhttp://proceedings.mlr.press/v9/glorot10a/glorot10a.pdf\n",
        "4.https://arxiv.org/abs/1502.01852\n",
        "https://www.youtube.com/watch?v=8krd5qKVw-Q&feature=youtu.be\n",
        "\n",
        "\n",
        "> SGR\n",
        "1. https://meet.google.com/twu-jyxn-nydhttps://alexisbcook.github.io/2017/global-average-pooling-layers-for-object-localization/\n",
        "2. https://medium.com/@macromoltek/machine-learning-and-simulated-annealing-588b2e70d0cc\n",
        "3. https://www.jeremyjordan.me/nn-learning-rate/\n",
        "\n",
        "\n",
        "Histogram normalization?\n",
        "whats GAP, why does it reduces the ?"
      ]
    }
  ]
}