{
  "nbformat": 4,
  "nbformat_minor": 0,
  "metadata": {
    "colab": {
      "name": "Ensemble modelling .ipynb",
      "provenance": [],
      "authorship_tag": "ABX9TyOZgzegFNh4/xHgN5bNNDlm",
      "include_colab_link": true
    },
    "kernelspec": {
      "name": "python3",
      "display_name": "Python 3"
    }
  },
  "cells": [
    {
      "cell_type": "markdown",
      "metadata": {
        "id": "view-in-github",
        "colab_type": "text"
      },
      "source": [
        "<a href=\"https://colab.research.google.com/github/AdicherlaVenkataSai/InternshalaML/blob/master/Ensemble_modelling_.ipynb\" target=\"_parent\"><img src=\"https://colab.research.google.com/assets/colab-badge.svg\" alt=\"Open In Colab\"/></a>"
      ]
    },
    {
      "cell_type": "markdown",
      "metadata": {
        "id": "vzfLtVPNcB-_",
        "colab_type": "text"
      },
      "source": [
        "Ensemble models: considering various predictions and making a final prediction\n",
        "\n",
        "max voting :categorical\n",
        "       \n",
        "average with some weights\n",
        "(good perf - more wt\n",
        "poor perf - less wt) :continuous\n",
        "\n",
        "voting\n",
        "\n",
        "averaging\n",
        "\n",
        "wt averaging\n",
        "\n",
        "ranking averaging"
      ]
    },
    {
      "cell_type": "markdown",
      "metadata": {
        "id": "Cf2j2iIC4Uk_",
        "colab_type": "text"
      },
      "source": [
        "# max voting"
      ]
    },
    {
      "cell_type": "code",
      "metadata": {
        "id": "8Kl9AhHEaa_L",
        "colab_type": "code",
        "outputId": "90680071-de6f-4da1-e522-4eff57224816",
        "colab": {
          "base_uri": "https://localhost:8080/",
          "height": 34
        }
      },
      "source": [
        "import numpy as np\n",
        "import pandas as pd\n",
        "import matplotlib.pyplot as plt\n",
        "\n",
        "data = pd.read_csv('data_cleaned.csv')\n",
        "data.shape"
      ],
      "execution_count": 0,
      "outputs": [
        {
          "output_type": "execute_result",
          "data": {
            "text/plain": [
              "(891, 25)"
            ]
          },
          "metadata": {
            "tags": []
          },
          "execution_count": 2
        }
      ]
    },
    {
      "cell_type": "code",
      "metadata": {
        "id": "NaQsW6Kc0xlu",
        "colab_type": "code",
        "colab": {}
      },
      "source": [
        "x = data.drop(['Survived'], axis = 1)\n",
        "y = data['Survived']"
      ],
      "execution_count": 0,
      "outputs": []
    },
    {
      "cell_type": "code",
      "metadata": {
        "id": "qA5ViP-f0_kw",
        "colab_type": "code",
        "outputId": "6b18d565-ab60-4cfa-82ae-ef800687753f",
        "colab": {
          "base_uri": "https://localhost:8080/",
          "height": 34
        }
      },
      "source": [
        "from sklearn.model_selection import train_test_split\n",
        "x_train, x_test, y_train, y_test  = train_test_split(x, y,  random_state = 10, stratify =y)\n",
        "x_train.shape, x_test.shape, y_train.shape, y_test.shape"
      ],
      "execution_count": 0,
      "outputs": [
        {
          "output_type": "execute_result",
          "data": {
            "text/plain": [
              "((668, 24), (223, 24), (668,), (223,))"
            ]
          },
          "metadata": {
            "tags": []
          },
          "execution_count": 4
        }
      ]
    },
    {
      "cell_type": "code",
      "metadata": {
        "id": "6h6is7jR1dU8",
        "colab_type": "code",
        "colab": {}
      },
      "source": [
        "from sklearn.linear_model import LogisticRegression\n",
        "from sklearn.neighbors import KNeighborsClassifier\n",
        "from sklearn.tree import DecisionTreeClassifier"
      ],
      "execution_count": 0,
      "outputs": []
    },
    {
      "cell_type": "code",
      "metadata": {
        "id": "t8t58f5o10g3",
        "colab_type": "code",
        "outputId": "ce31382c-7aa0-491e-f2f1-2f93788a586b",
        "colab": {
          "base_uri": "https://localhost:8080/",
          "height": 190
        }
      },
      "source": [
        "model1 = LogisticRegression()\n",
        "model1.fit(x_train, y_train)\n",
        "predict1= model1.predict(x_test)\n",
        "predict1[:10], model1.score(x_test, y_test)\n"
      ],
      "execution_count": 0,
      "outputs": [
        {
          "output_type": "stream",
          "text": [
            "/usr/local/lib/python3.6/dist-packages/sklearn/linear_model/_logistic.py:940: ConvergenceWarning: lbfgs failed to converge (status=1):\n",
            "STOP: TOTAL NO. of ITERATIONS REACHED LIMIT.\n",
            "\n",
            "Increase the number of iterations (max_iter) or scale the data as shown in:\n",
            "    https://scikit-learn.org/stable/modules/preprocessing.html\n",
            "Please also refer to the documentation for alternative solver options:\n",
            "    https://scikit-learn.org/stable/modules/linear_model.html#logistic-regression\n",
            "  extra_warning_msg=_LOGISTIC_SOLVER_CONVERGENCE_MSG)\n"
          ],
          "name": "stderr"
        },
        {
          "output_type": "execute_result",
          "data": {
            "text/plain": [
              "(array([1, 0, 0, 0, 0, 1, 1, 0, 0, 1]), 0.8251121076233184)"
            ]
          },
          "metadata": {
            "tags": []
          },
          "execution_count": 6
        }
      ]
    },
    {
      "cell_type": "code",
      "metadata": {
        "id": "JM1kPxTC2W43",
        "colab_type": "code",
        "outputId": "404cfe0d-8ee9-4f76-de4d-52ab79dc0115",
        "colab": {
          "base_uri": "https://localhost:8080/",
          "height": 34
        }
      },
      "source": [
        "model2 = KNeighborsClassifier(n_neighbors = 5)\n",
        "model2.fit(x_train, y_train)\n",
        "predict2= model2.predict(x_test)\n",
        "predict2[:10], model2.score(x_test, y_test)"
      ],
      "execution_count": 0,
      "outputs": [
        {
          "output_type": "execute_result",
          "data": {
            "text/plain": [
              "(array([1, 0, 0, 1, 0, 0, 0, 0, 0, 1]), 0.7354260089686099)"
            ]
          },
          "metadata": {
            "tags": []
          },
          "execution_count": 10
        }
      ]
    },
    {
      "cell_type": "code",
      "metadata": {
        "id": "xeWDW3FP2upy",
        "colab_type": "code",
        "outputId": "72d3353d-cf3b-45b5-b5ab-b1f170d3c9ad",
        "colab": {
          "base_uri": "https://localhost:8080/",
          "height": 34
        }
      },
      "source": [
        "model3 = DecisionTreeClassifier(max_depth = 7)\n",
        "model3.fit(x_train, y_train)\n",
        "predict3= model3.predict(x_test)\n",
        "predict3[:10], model3.score(x_test, y_test)"
      ],
      "execution_count": 0,
      "outputs": [
        {
          "output_type": "execute_result",
          "data": {
            "text/plain": [
              "(array([1, 0, 0, 0, 0, 1, 0, 0, 1, 1]), 0.8430493273542601)"
            ]
          },
          "metadata": {
            "tags": []
          },
          "execution_count": 11
        }
      ]
    },
    {
      "cell_type": "code",
      "metadata": {
        "id": "eUNhfsqk3EyG",
        "colab_type": "code",
        "colab": {}
      },
      "source": [
        "# importing\n",
        "\n",
        "from statistics import mode\n",
        "final_pred = np.array([])\n",
        "for i in range(len(x_test)):\n",
        "  final_pred = np.append(final_pred, mode([predict1[i], predict2[i], predict3[i]]))\n",
        "  "
      ],
      "execution_count": 0,
      "outputs": []
    },
    {
      "cell_type": "code",
      "metadata": {
        "id": "RSf4Xyto339c",
        "colab_type": "code",
        "outputId": "742439e6-fc1f-4314-8c68-288230e54cf0",
        "colab": {
          "base_uri": "https://localhost:8080/",
          "height": 34
        }
      },
      "source": [
        "from sklearn.metrics import accuracy_score\n",
        "accuracy_score(y_test, final_pred)"
      ],
      "execution_count": 0,
      "outputs": [
        {
          "output_type": "execute_result",
          "data": {
            "text/plain": [
              "0.8430493273542601"
            ]
          },
          "metadata": {
            "tags": []
          },
          "execution_count": 13
        }
      ]
    },
    {
      "cell_type": "code",
      "metadata": {
        "id": "nIor-uJ_4B-R",
        "colab_type": "code",
        "outputId": "41b7519c-4f4c-4bd0-b445-05ea0c58fdcc",
        "colab": {
          "base_uri": "https://localhost:8080/",
          "height": 34
        }
      },
      "source": [
        "accuracy_score(y_test, predict1), accuracy_score(y_test, predict2), accuracy_score(y_test, predict3)"
      ],
      "execution_count": 0,
      "outputs": [
        {
          "output_type": "execute_result",
          "data": {
            "text/plain": [
              "(0.8251121076233184, 0.7354260089686099, 0.8430493273542601)"
            ]
          },
          "metadata": {
            "tags": []
          },
          "execution_count": 14
        }
      ]
    },
    {
      "cell_type": "markdown",
      "metadata": {
        "id": "vhSqDXjn4Xet",
        "colab_type": "text"
      },
      "source": [
        "# averaging"
      ]
    },
    {
      "cell_type": "code",
      "metadata": {
        "id": "jT_tasxA4PML",
        "colab_type": "code",
        "colab": {}
      },
      "source": [
        "data1 = pd.read_csv('train_cleaned.csv')"
      ],
      "execution_count": 0,
      "outputs": []
    },
    {
      "cell_type": "code",
      "metadata": {
        "id": "ceWd7My34g9p",
        "colab_type": "code",
        "colab": {}
      },
      "source": [
        "x = data1.drop(['Item_Outlet_Sales'], axis = 1)\n",
        "y = data1['Item_Outlet_Sales']"
      ],
      "execution_count": 0,
      "outputs": []
    },
    {
      "cell_type": "code",
      "metadata": {
        "id": "E_jdeVzI4uSf",
        "colab_type": "code",
        "outputId": "a3b6da9b-3e34-4481-a646-69679fb32831",
        "colab": {
          "base_uri": "https://localhost:8080/",
          "height": 34
        }
      },
      "source": [
        "from sklearn.model_selection import train_test_split\n",
        "x_train, x_test, y_train, y_test  = train_test_split(x, y,  random_state = 10)\n",
        "x_train.shape, x_test.shape, y_train.shape, y_test.shape"
      ],
      "execution_count": 0,
      "outputs": [
        {
          "output_type": "execute_result",
          "data": {
            "text/plain": [
              "((6392, 45), (2131, 45), (6392,), (2131,))"
            ]
          },
          "metadata": {
            "tags": []
          },
          "execution_count": 19
        }
      ]
    },
    {
      "cell_type": "code",
      "metadata": {
        "id": "_E68XO5F48M-",
        "colab_type": "code",
        "colab": {}
      },
      "source": [
        "from sklearn.linear_model import LinearRegression\n",
        "from sklearn.neighbors import KNeighborsRegressor\n",
        "from sklearn.tree import DecisionTreeRegressor"
      ],
      "execution_count": 0,
      "outputs": []
    },
    {
      "cell_type": "code",
      "metadata": {
        "id": "Duh-sda35LXX",
        "colab_type": "code",
        "outputId": "f354327d-1716-4f8b-e2d2-4b0380d5a407",
        "colab": {
          "base_uri": "https://localhost:8080/",
          "height": 68
        }
      },
      "source": [
        "model1 = LinearRegression()\n",
        "model1.fit(x_train, y_train)\n",
        "predict1= model1.predict(x_test)\n",
        "predict1[:10], model1.score(x_test, y_test)\n"
      ],
      "execution_count": 0,
      "outputs": [
        {
          "output_type": "execute_result",
          "data": {
            "text/plain": [
              "(array([4113.07071883, 1748.2066241 , 2960.07626156, 1396.51926868,\n",
              "        3008.23091903, 2734.92728319, 1919.60560968, 2998.1415517 ,\n",
              "        2690.21085839, 1219.3775823 ]), 0.5615846417150259)"
            ]
          },
          "metadata": {
            "tags": []
          },
          "execution_count": 27
        }
      ]
    },
    {
      "cell_type": "code",
      "metadata": {
        "id": "HcgJYtoy5XUf",
        "colab_type": "code",
        "outputId": "f4148ce0-f67d-4f08-f9d8-e602a066bac5",
        "colab": {
          "base_uri": "https://localhost:8080/",
          "height": 68
        }
      },
      "source": [
        "model2 = KNeighborsRegressor(n_neighbors = 5)\n",
        "model2.fit(x_train, y_train)\n",
        "predict2= model2.predict(x_test)\n",
        "predict2[:10], model2.score(x_test, y_test)"
      ],
      "execution_count": 0,
      "outputs": [
        {
          "output_type": "execute_result",
          "data": {
            "text/plain": [
              "(array([4966.06904, 2246.54236, 2632.04056, 1651.58348, 3198.90268,\n",
              "        3600.91272, 2081.9566 , 3869.36328, 1957.05252, 1232.52896]),\n",
              " 0.48251889265968373)"
            ]
          },
          "metadata": {
            "tags": []
          },
          "execution_count": 28
        }
      ]
    },
    {
      "cell_type": "code",
      "metadata": {
        "id": "VS9djL0k5a8c",
        "colab_type": "code",
        "outputId": "fd9c2e79-d551-4ddc-a861-02801ec4a4d5",
        "colab": {
          "base_uri": "https://localhost:8080/",
          "height": 68
        }
      },
      "source": [
        "model3 = DecisionTreeRegressor(max_depth = 7)\n",
        "model3.fit(x_train, y_train)\n",
        "predict3= model3.predict(x_test)\n",
        "predict3[:10], model3.score(x_test, y_test)"
      ],
      "execution_count": 0,
      "outputs": [
        {
          "output_type": "execute_result",
          "data": {
            "text/plain": [
              "(array([4131.61181212, 1683.12362744, 3129.04552991, 1399.21807527,\n",
              "        3006.31911376, 3129.04552991, 1683.12362744, 3129.04552991,\n",
              "        3129.04552991, 1276.8294141 ]), 0.5628062355547123)"
            ]
          },
          "metadata": {
            "tags": []
          },
          "execution_count": 29
        }
      ]
    },
    {
      "cell_type": "code",
      "metadata": {
        "id": "VDlSusj45ltf",
        "colab_type": "code",
        "colab": {}
      },
      "source": [
        "\n",
        "from statistics import mean\n",
        "final_pred = np.array([])\n",
        "for i in range(len(x_test)):\n",
        "  final_pred = np.append(final_pred, mean([predict1[i], predict2[i], predict3[i]]))"
      ],
      "execution_count": 0,
      "outputs": []
    },
    {
      "cell_type": "code",
      "metadata": {
        "id": "1chqiQiP6a61",
        "colab_type": "code",
        "outputId": "fb292760-c07b-40fd-f9ce-8b573bda344e",
        "colab": {
          "base_uri": "https://localhost:8080/",
          "height": 34
        }
      },
      "source": [
        "from sklearn.metrics import r2_score\n",
        "r2_score(y_test, final_pred)"
      ],
      "execution_count": 0,
      "outputs": [
        {
          "output_type": "execute_result",
          "data": {
            "text/plain": [
              "0.5725830779245229"
            ]
          },
          "metadata": {
            "tags": []
          },
          "execution_count": 36
        }
      ]
    },
    {
      "cell_type": "code",
      "metadata": {
        "id": "iEULOhA67KTN",
        "colab_type": "code",
        "outputId": "7a690929-3a9c-47f4-e69e-54cd4aa5216a",
        "colab": {
          "base_uri": "https://localhost:8080/",
          "height": 34
        }
      },
      "source": [
        "r2_score(y_test, predict1), r2_score(y_test, predict2), r2_score(y_test, predict3)"
      ],
      "execution_count": 0,
      "outputs": [
        {
          "output_type": "execute_result",
          "data": {
            "text/plain": [
              "(0.5615846417150259, 0.48251889265968373, 0.5628062355547123)"
            ]
          },
          "metadata": {
            "tags": []
          },
          "execution_count": 37
        }
      ]
    },
    {
      "cell_type": "markdown",
      "metadata": {
        "id": "sDiHHemj7iCN",
        "colab_type": "text"
      },
      "source": [
        "# weighted averaging"
      ]
    },
    {
      "cell_type": "code",
      "metadata": {
        "id": "lFYGnH827ZvQ",
        "colab_type": "code",
        "colab": {}
      },
      "source": [
        "\n",
        "from statistics import mean\n",
        "final_pred = np.array([])\n",
        "for i in range(len(x_test)):\n",
        "  final_pred = np.append(final_pred, mean([predict1[i], predict1[i], predict2[i],predict3[i], predict3[i]]))"
      ],
      "execution_count": 0,
      "outputs": []
    },
    {
      "cell_type": "code",
      "metadata": {
        "id": "qBthWyhV8Emv",
        "colab_type": "code",
        "outputId": "c1bcb2fe-d38c-4a10-b1eb-00783dc05c62",
        "colab": {
          "base_uri": "https://localhost:8080/",
          "height": 34
        }
      },
      "source": [
        "r2_score(y_test, final_pred)"
      ],
      "execution_count": 0,
      "outputs": [
        {
          "output_type": "execute_result",
          "data": {
            "text/plain": [
              "0.5785226099661214"
            ]
          },
          "metadata": {
            "tags": []
          },
          "execution_count": 39
        }
      ]
    },
    {
      "cell_type": "markdown",
      "metadata": {
        "id": "JWrodaqh8JnC",
        "colab_type": "text"
      },
      "source": [
        "there is a slight change in the r2"
      ]
    },
    {
      "cell_type": "markdown",
      "metadata": {
        "id": "oSPg5o098RTN",
        "colab_type": "text"
      },
      "source": [
        "# rank averaging"
      ]
    },
    {
      "cell_type": "code",
      "metadata": {
        "id": "Soe3xZKE8HfZ",
        "colab_type": "code",
        "outputId": "d9d26c7a-4598-45cb-b836-954d0702f1d7",
        "colab": {
          "base_uri": "https://localhost:8080/",
          "height": 34
        }
      },
      "source": [
        "m1_score = model1.score(x_test, y_test)\n",
        "m2_score = model2.score(x_test, y_test)\n",
        "m3_score = model3.score(x_test, y_test)\n",
        "m1_score, m2_score, m3_score"
      ],
      "execution_count": 0,
      "outputs": [
        {
          "output_type": "execute_result",
          "data": {
            "text/plain": [
              "(0.5615846417150259, 0.48251889265968373, 0.5628062355547123)"
            ]
          },
          "metadata": {
            "tags": []
          },
          "execution_count": 40
        }
      ]
    },
    {
      "cell_type": "code",
      "metadata": {
        "id": "u1pEoXab8r6g",
        "colab_type": "code",
        "outputId": "75d3aaa1-4056-4fb0-db26-cef1b96d36f1",
        "colab": {
          "base_uri": "https://localhost:8080/",
          "height": 142
        }
      },
      "source": [
        "index = [1, 2, 3]\n",
        "test_r2 =[m1_score, m2_score, m3_score]\n",
        "\n",
        "rank_eval = pd.DataFrame({'score':test_r2}, index = index)\n",
        "rank_eval"
      ],
      "execution_count": 0,
      "outputs": [
        {
          "output_type": "execute_result",
          "data": {
            "text/html": [
              "<div>\n",
              "<style scoped>\n",
              "    .dataframe tbody tr th:only-of-type {\n",
              "        vertical-align: middle;\n",
              "    }\n",
              "\n",
              "    .dataframe tbody tr th {\n",
              "        vertical-align: top;\n",
              "    }\n",
              "\n",
              "    .dataframe thead th {\n",
              "        text-align: right;\n",
              "    }\n",
              "</style>\n",
              "<table border=\"1\" class=\"dataframe\">\n",
              "  <thead>\n",
              "    <tr style=\"text-align: right;\">\n",
              "      <th></th>\n",
              "      <th>score</th>\n",
              "    </tr>\n",
              "  </thead>\n",
              "  <tbody>\n",
              "    <tr>\n",
              "      <th>1</th>\n",
              "      <td>0.561585</td>\n",
              "    </tr>\n",
              "    <tr>\n",
              "      <th>2</th>\n",
              "      <td>0.482519</td>\n",
              "    </tr>\n",
              "    <tr>\n",
              "      <th>3</th>\n",
              "      <td>0.562806</td>\n",
              "    </tr>\n",
              "  </tbody>\n",
              "</table>\n",
              "</div>"
            ],
            "text/plain": [
              "      score\n",
              "1  0.561585\n",
              "2  0.482519\n",
              "3  0.562806"
            ]
          },
          "metadata": {
            "tags": []
          },
          "execution_count": 42
        }
      ]
    },
    {
      "cell_type": "code",
      "metadata": {
        "id": "NcWQaWry9U86",
        "colab_type": "code",
        "outputId": "896524fc-4159-431d-cc61-96e960cc182e",
        "colab": {
          "base_uri": "https://localhost:8080/",
          "height": 142
        }
      },
      "source": [
        "# order them\n",
        "\n",
        "sorted_rank = rank_eval.sort_values('score')\n",
        "sorted_rank\n",
        "\n",
        "sorted_rank['rank']= [i for i in range(1,4)]\n",
        "sorted_rank"
      ],
      "execution_count": 0,
      "outputs": [
        {
          "output_type": "execute_result",
          "data": {
            "text/html": [
              "<div>\n",
              "<style scoped>\n",
              "    .dataframe tbody tr th:only-of-type {\n",
              "        vertical-align: middle;\n",
              "    }\n",
              "\n",
              "    .dataframe tbody tr th {\n",
              "        vertical-align: top;\n",
              "    }\n",
              "\n",
              "    .dataframe thead th {\n",
              "        text-align: right;\n",
              "    }\n",
              "</style>\n",
              "<table border=\"1\" class=\"dataframe\">\n",
              "  <thead>\n",
              "    <tr style=\"text-align: right;\">\n",
              "      <th></th>\n",
              "      <th>score</th>\n",
              "      <th>rank</th>\n",
              "    </tr>\n",
              "  </thead>\n",
              "  <tbody>\n",
              "    <tr>\n",
              "      <th>2</th>\n",
              "      <td>0.482519</td>\n",
              "      <td>1</td>\n",
              "    </tr>\n",
              "    <tr>\n",
              "      <th>1</th>\n",
              "      <td>0.561585</td>\n",
              "      <td>2</td>\n",
              "    </tr>\n",
              "    <tr>\n",
              "      <th>3</th>\n",
              "      <td>0.562806</td>\n",
              "      <td>3</td>\n",
              "    </tr>\n",
              "  </tbody>\n",
              "</table>\n",
              "</div>"
            ],
            "text/plain": [
              "      score  rank\n",
              "2  0.482519     1\n",
              "1  0.561585     2\n",
              "3  0.562806     3"
            ]
          },
          "metadata": {
            "tags": []
          },
          "execution_count": 46
        }
      ]
    },
    {
      "cell_type": "code",
      "metadata": {
        "id": "kwBca29S-6EO",
        "colab_type": "code",
        "outputId": "8b9d734f-b754-4243-e3f6-64b72a4770c3",
        "colab": {
          "base_uri": "https://localhost:8080/",
          "height": 142
        }
      },
      "source": [
        "sorted_rank['weight'] = sorted_rank['rank'] / sorted_rank['rank'].sum()\n",
        "sorted_rank"
      ],
      "execution_count": 0,
      "outputs": [
        {
          "output_type": "execute_result",
          "data": {
            "text/html": [
              "<div>\n",
              "<style scoped>\n",
              "    .dataframe tbody tr th:only-of-type {\n",
              "        vertical-align: middle;\n",
              "    }\n",
              "\n",
              "    .dataframe tbody tr th {\n",
              "        vertical-align: top;\n",
              "    }\n",
              "\n",
              "    .dataframe thead th {\n",
              "        text-align: right;\n",
              "    }\n",
              "</style>\n",
              "<table border=\"1\" class=\"dataframe\">\n",
              "  <thead>\n",
              "    <tr style=\"text-align: right;\">\n",
              "      <th></th>\n",
              "      <th>score</th>\n",
              "      <th>rank</th>\n",
              "      <th>weight</th>\n",
              "    </tr>\n",
              "  </thead>\n",
              "  <tbody>\n",
              "    <tr>\n",
              "      <th>2</th>\n",
              "      <td>0.482519</td>\n",
              "      <td>1</td>\n",
              "      <td>0.166667</td>\n",
              "    </tr>\n",
              "    <tr>\n",
              "      <th>1</th>\n",
              "      <td>0.561585</td>\n",
              "      <td>2</td>\n",
              "      <td>0.333333</td>\n",
              "    </tr>\n",
              "    <tr>\n",
              "      <th>3</th>\n",
              "      <td>0.562806</td>\n",
              "      <td>3</td>\n",
              "      <td>0.500000</td>\n",
              "    </tr>\n",
              "  </tbody>\n",
              "</table>\n",
              "</div>"
            ],
            "text/plain": [
              "      score  rank    weight\n",
              "2  0.482519     1  0.166667\n",
              "1  0.561585     2  0.333333\n",
              "3  0.562806     3  0.500000"
            ]
          },
          "metadata": {
            "tags": []
          },
          "execution_count": 50
        }
      ]
    },
    {
      "cell_type": "code",
      "metadata": {
        "id": "bdRc1xMa9nnj",
        "colab_type": "code",
        "outputId": "2fc6dd65-fc53-4afb-d85e-b9f41c6f060b",
        "colab": {
          "base_uri": "https://localhost:8080/",
          "height": 51
        }
      },
      "source": [
        "wt_pred1 = predict1 * float(sorted_rank.loc[[1], ['weight']].values)\n",
        "wt_pred2 = predict2 * float(sorted_rank.loc[[2], ['weight']].values)\n",
        "wt_pred3 = predict3 * float(sorted_rank.loc[[3], ['weight']].values)\n",
        "\n",
        "ranked_prediction = wt_pred1 + wt_pred2 + wt_pred3\n",
        "ranked_prediction"
      ],
      "execution_count": 0,
      "outputs": [
        {
          "output_type": "execute_result",
          "data": {
            "text/plain": [
              "array([4264.50765234, 1798.72108176, 2989.88827881, ..., 2774.30644221,\n",
              "        788.46445262, 4248.00193214])"
            ]
          },
          "metadata": {
            "tags": []
          },
          "execution_count": 51
        }
      ]
    },
    {
      "cell_type": "code",
      "metadata": {
        "id": "r8dMfCaG-nGV",
        "colab_type": "code",
        "outputId": "d08c54c4-0f27-4f27-e25f-ee3e38e37a55",
        "colab": {
          "base_uri": "https://localhost:8080/",
          "height": 34
        }
      },
      "source": [
        "r2_score(y_test, ranked_prediction)"
      ],
      "execution_count": 0,
      "outputs": [
        {
          "output_type": "execute_result",
          "data": {
            "text/plain": [
              "0.5786055135143513"
            ]
          },
          "metadata": {
            "tags": []
          },
          "execution_count": 52
        }
      ]
    },
    {
      "cell_type": "markdown",
      "metadata": {
        "id": "mWqb4_uq_XTo",
        "colab_type": "text"
      },
      "source": [
        "the performane is slightly imporved"
      ]
    },
    {
      "cell_type": "markdown",
      "metadata": {
        "id": "3HE1NLoBReKs",
        "colab_type": "text"
      },
      "source": [
        "advantages:\n",
        "\n",
        "\n",
        "*   captures multiple signals\n",
        "*   brings in diversity\n",
        "*   reduces overfitting\n",
        "*   proved toperform execeptionally well in data science competitions\n",
        "\n",
        "\n",
        "\n",
        "dis advantages:\n",
        "\n",
        "\n",
        "*   high complexity\n",
        "*   Lacks interpretability\n",
        "*   time consuming\n",
        "*   more computations\n",
        "\n",
        "\n",
        "\n",
        "\n",
        "\n",
        "\n",
        "\n",
        "\n",
        "\n"
      ]
    },
    {
      "cell_type": "code",
      "metadata": {
        "id": "51SjC_a-U8fP",
        "colab_type": "code",
        "colab": {}
      },
      "source": [
        ""
      ],
      "execution_count": 0,
      "outputs": []
    }
  ]
}