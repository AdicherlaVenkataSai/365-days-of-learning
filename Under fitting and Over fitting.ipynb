{
 "cells": [
  {
   "cell_type": "markdown",
   "metadata": {},
   "source": [
    "# Underfitting and Overfitting demo using KNN"
   ]
  },
  {
   "cell_type": "code",
   "execution_count": 2,
   "metadata": {},
   "outputs": [],
   "source": [
    "import pandas as pd\n",
    "import numpy as  np\n",
    "import matplotlib.pyplot as plt\n",
    "%matplotlib inline"
   ]
  },
  {
   "cell_type": "code",
   "execution_count": 3,
   "metadata": {},
   "outputs": [],
   "source": [
    "data = pd.read_csv('data_knn_classification_cleaned_titanic.csv')"
   ]
  },
  {
   "cell_type": "code",
   "execution_count": 4,
   "metadata": {},
   "outputs": [
    {
     "data": {
      "text/html": [
       "<div>\n",
       "<style scoped>\n",
       "    .dataframe tbody tr th:only-of-type {\n",
       "        vertical-align: middle;\n",
       "    }\n",
       "\n",
       "    .dataframe tbody tr th {\n",
       "        vertical-align: top;\n",
       "    }\n",
       "\n",
       "    .dataframe thead th {\n",
       "        text-align: right;\n",
       "    }\n",
       "</style>\n",
       "<table border=\"1\" class=\"dataframe\">\n",
       "  <thead>\n",
       "    <tr style=\"text-align: right;\">\n",
       "      <th></th>\n",
       "      <th>Survived</th>\n",
       "      <th>Age</th>\n",
       "      <th>Fare</th>\n",
       "      <th>Pclass_1</th>\n",
       "      <th>Pclass_2</th>\n",
       "      <th>Pclass_3</th>\n",
       "      <th>Sex_female</th>\n",
       "      <th>Sex_male</th>\n",
       "      <th>SibSp_0</th>\n",
       "      <th>SibSp_1</th>\n",
       "      <th>...</th>\n",
       "      <th>Parch_0</th>\n",
       "      <th>Parch_1</th>\n",
       "      <th>Parch_2</th>\n",
       "      <th>Parch_3</th>\n",
       "      <th>Parch_4</th>\n",
       "      <th>Parch_5</th>\n",
       "      <th>Parch_6</th>\n",
       "      <th>Embarked_C</th>\n",
       "      <th>Embarked_Q</th>\n",
       "      <th>Embarked_S</th>\n",
       "    </tr>\n",
       "  </thead>\n",
       "  <tbody>\n",
       "    <tr>\n",
       "      <td>0</td>\n",
       "      <td>0</td>\n",
       "      <td>22.0</td>\n",
       "      <td>7.2500</td>\n",
       "      <td>0</td>\n",
       "      <td>0</td>\n",
       "      <td>1</td>\n",
       "      <td>0</td>\n",
       "      <td>1</td>\n",
       "      <td>0</td>\n",
       "      <td>1</td>\n",
       "      <td>...</td>\n",
       "      <td>1</td>\n",
       "      <td>0</td>\n",
       "      <td>0</td>\n",
       "      <td>0</td>\n",
       "      <td>0</td>\n",
       "      <td>0</td>\n",
       "      <td>0</td>\n",
       "      <td>0</td>\n",
       "      <td>0</td>\n",
       "      <td>1</td>\n",
       "    </tr>\n",
       "    <tr>\n",
       "      <td>1</td>\n",
       "      <td>1</td>\n",
       "      <td>38.0</td>\n",
       "      <td>71.2833</td>\n",
       "      <td>1</td>\n",
       "      <td>0</td>\n",
       "      <td>0</td>\n",
       "      <td>1</td>\n",
       "      <td>0</td>\n",
       "      <td>0</td>\n",
       "      <td>1</td>\n",
       "      <td>...</td>\n",
       "      <td>1</td>\n",
       "      <td>0</td>\n",
       "      <td>0</td>\n",
       "      <td>0</td>\n",
       "      <td>0</td>\n",
       "      <td>0</td>\n",
       "      <td>0</td>\n",
       "      <td>1</td>\n",
       "      <td>0</td>\n",
       "      <td>0</td>\n",
       "    </tr>\n",
       "    <tr>\n",
       "      <td>2</td>\n",
       "      <td>1</td>\n",
       "      <td>26.0</td>\n",
       "      <td>7.9250</td>\n",
       "      <td>0</td>\n",
       "      <td>0</td>\n",
       "      <td>1</td>\n",
       "      <td>1</td>\n",
       "      <td>0</td>\n",
       "      <td>1</td>\n",
       "      <td>0</td>\n",
       "      <td>...</td>\n",
       "      <td>1</td>\n",
       "      <td>0</td>\n",
       "      <td>0</td>\n",
       "      <td>0</td>\n",
       "      <td>0</td>\n",
       "      <td>0</td>\n",
       "      <td>0</td>\n",
       "      <td>0</td>\n",
       "      <td>0</td>\n",
       "      <td>1</td>\n",
       "    </tr>\n",
       "    <tr>\n",
       "      <td>3</td>\n",
       "      <td>1</td>\n",
       "      <td>35.0</td>\n",
       "      <td>53.1000</td>\n",
       "      <td>1</td>\n",
       "      <td>0</td>\n",
       "      <td>0</td>\n",
       "      <td>1</td>\n",
       "      <td>0</td>\n",
       "      <td>0</td>\n",
       "      <td>1</td>\n",
       "      <td>...</td>\n",
       "      <td>1</td>\n",
       "      <td>0</td>\n",
       "      <td>0</td>\n",
       "      <td>0</td>\n",
       "      <td>0</td>\n",
       "      <td>0</td>\n",
       "      <td>0</td>\n",
       "      <td>0</td>\n",
       "      <td>0</td>\n",
       "      <td>1</td>\n",
       "    </tr>\n",
       "    <tr>\n",
       "      <td>4</td>\n",
       "      <td>0</td>\n",
       "      <td>35.0</td>\n",
       "      <td>8.0500</td>\n",
       "      <td>0</td>\n",
       "      <td>0</td>\n",
       "      <td>1</td>\n",
       "      <td>0</td>\n",
       "      <td>1</td>\n",
       "      <td>1</td>\n",
       "      <td>0</td>\n",
       "      <td>...</td>\n",
       "      <td>1</td>\n",
       "      <td>0</td>\n",
       "      <td>0</td>\n",
       "      <td>0</td>\n",
       "      <td>0</td>\n",
       "      <td>0</td>\n",
       "      <td>0</td>\n",
       "      <td>0</td>\n",
       "      <td>0</td>\n",
       "      <td>1</td>\n",
       "    </tr>\n",
       "  </tbody>\n",
       "</table>\n",
       "<p>5 rows × 25 columns</p>\n",
       "</div>"
      ],
      "text/plain": [
       "   Survived   Age     Fare  Pclass_1  Pclass_2  Pclass_3  Sex_female  \\\n",
       "0         0  22.0   7.2500         0         0         1           0   \n",
       "1         1  38.0  71.2833         1         0         0           1   \n",
       "2         1  26.0   7.9250         0         0         1           1   \n",
       "3         1  35.0  53.1000         1         0         0           1   \n",
       "4         0  35.0   8.0500         0         0         1           0   \n",
       "\n",
       "   Sex_male  SibSp_0  SibSp_1  ...  Parch_0  Parch_1  Parch_2  Parch_3  \\\n",
       "0         1        0        1  ...        1        0        0        0   \n",
       "1         0        0        1  ...        1        0        0        0   \n",
       "2         0        1        0  ...        1        0        0        0   \n",
       "3         0        0        1  ...        1        0        0        0   \n",
       "4         1        1        0  ...        1        0        0        0   \n",
       "\n",
       "   Parch_4  Parch_5  Parch_6  Embarked_C  Embarked_Q  Embarked_S  \n",
       "0        0        0        0           0           0           1  \n",
       "1        0        0        0           1           0           0  \n",
       "2        0        0        0           0           0           1  \n",
       "3        0        0        0           0           0           1  \n",
       "4        0        0        0           0           0           1  \n",
       "\n",
       "[5 rows x 25 columns]"
      ]
     },
     "execution_count": 4,
     "metadata": {},
     "output_type": "execute_result"
    }
   ],
   "source": [
    "data.head()"
   ]
  },
  {
   "cell_type": "code",
   "execution_count": 5,
   "metadata": {},
   "outputs": [],
   "source": [
    "x = data.drop(['Survived'], axis=1)\n",
    "y = data['Survived']"
   ]
  },
  {
   "cell_type": "code",
   "execution_count": 6,
   "metadata": {},
   "outputs": [],
   "source": [
    "#Scaling the data\n",
    "from sklearn.preprocessing import StandardScaler\n",
    "ss = StandardScaler()\n",
    "x = ss.fit_transform(x)"
   ]
  },
  {
   "cell_type": "code",
   "execution_count": 7,
   "metadata": {},
   "outputs": [],
   "source": [
    "#split the data\n",
    "from sklearn.model_selection import train_test_split\n",
    "train_x, test_x, train_y, test_y = train_test_split(x, y, random_state=96, stratify=y)"
   ]
  },
  {
   "cell_type": "markdown",
   "metadata": {},
   "source": [
    "# implementing KNN"
   ]
  },
  {
   "cell_type": "code",
   "execution_count": 8,
   "metadata": {},
   "outputs": [],
   "source": [
    "#imporing KNN classifier and f1 score\n",
    "from sklearn.neighbors import KNeighborsClassifier as KNN\n",
    "from sklearn.metrics import f1_score"
   ]
  },
  {
   "cell_type": "code",
   "execution_count": 9,
   "metadata": {},
   "outputs": [
    {
     "name": "stdout",
     "output_type": "stream",
     "text": [
      "training:  0.7194570135746606\n",
      "testing:  0.6950354609929079\n"
     ]
    }
   ],
   "source": [
    "#creating an instance of KNN\n",
    "clf = KNN(n_neighbors = 12)\n",
    "clf.fit(train_x, train_y)\n",
    "\n",
    "train_predict = clf.predict(train_x)\n",
    "k1 = f1_score(train_predict, train_y)\n",
    "print(\"training: \",k1)\n",
    "\n",
    "test_predict = clf.predict(test_x)\n",
    "k = f1_score(test_predict, test_y) \n",
    "print(\"testing: \",k)"
   ]
  },
  {
   "cell_type": "code",
   "execution_count": 10,
   "metadata": {},
   "outputs": [],
   "source": [
    "def f1score(k):\n",
    "    train_f1 = []\n",
    "    test_f1 = []\n",
    "    \n",
    "    for i in k:\n",
    "        clf = KNN(n_neighbors = i)\n",
    "        clf.fit(train_x, train_y)\n",
    "\n",
    "        train_predict = clf.predict(train_x)\n",
    "        k1 = f1_score(train_predict, train_y)\n",
    "        train_f1.append(k1)\n",
    "\n",
    "        test_predict = clf.predict(test_x)\n",
    "        k = f1_score(test_predict, test_y) \n",
    "        test_f1.append(k)\n",
    "    return train_f1, test_f1\n",
    "    "
   ]
  },
  {
   "cell_type": "code",
   "execution_count": 16,
   "metadata": {},
   "outputs": [
    {
     "data": {
      "text/plain": [
       "([0.9606299212598425,\n",
       "  0.7952941176470588,\n",
       "  0.8185483870967741,\n",
       "  0.7736263736263737,\n",
       "  0.7934560327198364,\n",
       "  0.7566371681415929,\n",
       "  0.7698744769874477,\n",
       "  0.7361419068736141,\n",
       "  0.7685950413223139,\n",
       "  0.7418655097613883,\n",
       "  0.7587628865979381,\n",
       "  0.7363834422657952,\n",
       "  0.7557411273486431,\n",
       "  0.7304347826086957,\n",
       "  0.7366167023554603,\n",
       "  0.7207207207207208,\n",
       "  0.7205240174672489,\n",
       "  0.7074829931972789,\n",
       "  0.7186147186147185,\n",
       "  0.7042889390519187,\n",
       "  0.7198275862068966,\n",
       "  0.7130044843049327,\n",
       "  0.7189542483660131,\n",
       "  0.7139689578713969,\n",
       "  0.7261146496815286,\n",
       "  0.7352297592997812,\n",
       "  0.728448275862069,\n",
       "  0.7331887201735359,\n",
       "  0.7323340471092077,\n",
       "  0.737527114967462,\n",
       "  0.7296137339055794,\n",
       "  0.7327586206896551,\n",
       "  0.7366167023554603,\n",
       "  0.7145969498910676,\n",
       "  0.7194860813704497,\n",
       "  0.6758620689655173,\n",
       "  0.7043478260869565,\n",
       "  0.6948775055679287,\n",
       "  0.6945054945054945,\n",
       "  0.6526806526806527,\n",
       "  0.6621315192743764,\n",
       "  0.6589327146171694,\n",
       "  0.6605504587155964,\n",
       "  0.647887323943662,\n",
       "  0.6511627906976744,\n",
       "  0.6491646778042959,\n",
       "  0.6742596810933941,\n",
       "  0.6477541371158392,\n",
       "  0.6712328767123288],\n",
       " [0.6235294117647059,\n",
       "  0.5547445255474454,\n",
       "  0.6463414634146342,\n",
       "  0.6206896551724138,\n",
       "  0.6282051282051283,\n",
       "  0.5915492957746479,\n",
       "  0.6153846153846154,\n",
       "  0.6164383561643836,\n",
       "  0.6419753086419753,\n",
       "  0.6233766233766234,\n",
       "  0.6424242424242425,\n",
       "  0.6624203821656051,\n",
       "  0.6987951807228916,\n",
       "  0.7044025157232704,\n",
       "  0.6787878787878788,\n",
       "  0.6666666666666666,\n",
       "  0.6826347305389222,\n",
       "  0.6540880503144654,\n",
       "  0.6982248520710059,\n",
       "  0.6832298136645963,\n",
       "  0.6941176470588234,\n",
       "  0.6946107784431137,\n",
       "  0.7058823529411765,\n",
       "  0.7037037037037037,\n",
       "  0.7176470588235294,\n",
       "  0.7044025157232704,\n",
       "  0.6829268292682927,\n",
       "  0.6956521739130435,\n",
       "  0.6904761904761904,\n",
       "  0.7080745341614907,\n",
       "  0.6993865030674846,\n",
       "  0.6913580246913581,\n",
       "  0.6946107784431137,\n",
       "  0.6709677419354838,\n",
       "  0.6624203821656051,\n",
       "  0.6216216216216216,\n",
       "  0.6451612903225806,\n",
       "  0.6216216216216216,\n",
       "  0.6329113924050633,\n",
       "  0.5810810810810811,\n",
       "  0.5810810810810811,\n",
       "  0.5810810810810811,\n",
       "  0.5810810810810811,\n",
       "  0.5753424657534246,\n",
       "  0.5771812080536913,\n",
       "  0.5594405594405595,\n",
       "  0.5827814569536425,\n",
       "  0.5034965034965034,\n",
       "  0.5405405405405406])"
      ]
     },
     "execution_count": 16,
     "metadata": {},
     "output_type": "execute_result"
    }
   ],
   "source": [
    "k = range(1,50)\n",
    "train_f1, test_f1 = f1score(k)\n",
    "train_f1, test_f1"
   ]
  },
  {
   "cell_type": "code",
   "execution_count": 12,
   "metadata": {},
   "outputs": [
    {
     "data": {
      "text/html": [
       "<div>\n",
       "<style scoped>\n",
       "    .dataframe tbody tr th:only-of-type {\n",
       "        vertical-align: middle;\n",
       "    }\n",
       "\n",
       "    .dataframe tbody tr th {\n",
       "        vertical-align: top;\n",
       "    }\n",
       "\n",
       "    .dataframe thead th {\n",
       "        text-align: right;\n",
       "    }\n",
       "</style>\n",
       "<table border=\"1\" class=\"dataframe\">\n",
       "  <thead>\n",
       "    <tr style=\"text-align: right;\">\n",
       "      <th></th>\n",
       "      <th>train score</th>\n",
       "      <th>test_score</th>\n",
       "    </tr>\n",
       "  </thead>\n",
       "  <tbody>\n",
       "    <tr>\n",
       "      <td>2</td>\n",
       "      <td>0.804651</td>\n",
       "      <td>0.595745</td>\n",
       "    </tr>\n",
       "    <tr>\n",
       "      <td>3</td>\n",
       "      <td>0.820926</td>\n",
       "      <td>0.708075</td>\n",
       "    </tr>\n",
       "    <tr>\n",
       "      <td>4</td>\n",
       "      <td>0.773034</td>\n",
       "      <td>0.628571</td>\n",
       "    </tr>\n",
       "    <tr>\n",
       "      <td>5</td>\n",
       "      <td>0.771784</td>\n",
       "      <td>0.675497</td>\n",
       "    </tr>\n",
       "    <tr>\n",
       "      <td>6</td>\n",
       "      <td>0.746067</td>\n",
       "      <td>0.680851</td>\n",
       "    </tr>\n",
       "    <tr>\n",
       "      <td>...</td>\n",
       "      <td>...</td>\n",
       "      <td>...</td>\n",
       "    </tr>\n",
       "    <tr>\n",
       "      <td>115</td>\n",
       "      <td>0.562500</td>\n",
       "      <td>0.491525</td>\n",
       "    </tr>\n",
       "    <tr>\n",
       "      <td>116</td>\n",
       "      <td>0.560847</td>\n",
       "      <td>0.495726</td>\n",
       "    </tr>\n",
       "    <tr>\n",
       "      <td>117</td>\n",
       "      <td>0.560209</td>\n",
       "      <td>0.500000</td>\n",
       "    </tr>\n",
       "    <tr>\n",
       "      <td>118</td>\n",
       "      <td>0.561680</td>\n",
       "      <td>0.500000</td>\n",
       "    </tr>\n",
       "    <tr>\n",
       "      <td>119</td>\n",
       "      <td>0.558747</td>\n",
       "      <td>0.508475</td>\n",
       "    </tr>\n",
       "  </tbody>\n",
       "</table>\n",
       "<p>118 rows × 2 columns</p>\n",
       "</div>"
      ],
      "text/plain": [
       "     train score  test_score\n",
       "2       0.804651    0.595745\n",
       "3       0.820926    0.708075\n",
       "4       0.773034    0.628571\n",
       "5       0.771784    0.675497\n",
       "6       0.746067    0.680851\n",
       "..           ...         ...\n",
       "115     0.562500    0.491525\n",
       "116     0.560847    0.495726\n",
       "117     0.560209    0.500000\n",
       "118     0.561680    0.500000\n",
       "119     0.558747    0.508475\n",
       "\n",
       "[118 rows x 2 columns]"
      ]
     },
     "execution_count": 12,
     "metadata": {},
     "output_type": "execute_result"
    }
   ],
   "source": [
    "score = pd.DataFrame({'train score': train_f1, 'test_score':test_f1}, index = k)\n",
    "score"
   ]
  },
  {
   "cell_type": "code",
   "execution_count": 17,
   "metadata": {},
   "outputs": [
    {
     "data": {
      "text/plain": [
       "<matplotlib.legend.Legend at 0x156cc4a8b48>"
      ]
     },
     "execution_count": 17,
     "metadata": {},
     "output_type": "execute_result"
    },
    {
     "data": {
      "image/png": "[encoded data removed]",
      "text/plain": [
       "<Figure size 432x288 with 1 Axes>"
      ]
     },
     "metadata": {
      "needs_background": "light"
     },
     "output_type": "display_data"
    }
   ],
   "source": [
    "#visulaising \n",
    "plt.plot(k, test_f1, color ='red', label ='test')\n",
    "plt.plot(k, train_f1, color ='green', label ='train')\n",
    "plt.xlabel('K Neighbors')\n",
    "plt.ylabel('F1 score')\n",
    "plt.title('f1 curve')\n",
    "plt.ylim(0,4,1)\n",
    "plt.legend()"
   ]
  },
  {
   "cell_type": "code",
   "execution_count": 20,
   "metadata": {},
   "outputs": [],
   "source": [
    "#split the data\n",
    "from sklearn.model_selection import train_test_split\n",
    "train_x, test_x, train_y, test_y = train_test_split(x, y, random_state=42, stratify=y)"
   ]
  },
  {
   "cell_type": "code",
   "execution_count": 21,
   "metadata": {},
   "outputs": [],
   "source": [
    "k = range(1,50)\n",
    "train_f1, test_f1 = f1score(k)"
   ]
  },
  {
   "cell_type": "code",
   "execution_count": 23,
   "metadata": {},
   "outputs": [
    {
     "data": {
      "text/plain": [
       "<matplotlib.legend.Legend at 0x156cc61dc08>"
      ]
     },
     "execution_count": 23,
     "metadata": {},
     "output_type": "execute_result"
    },
    {
     "data": {
      "image/png": "[encoded data removed]",
      "text/plain": [
       "<Figure size 432x288 with 1 Axes>"
      ]
     },
     "metadata": {
      "needs_background": "light"
     },
     "output_type": "display_data"
    }
   ],
   "source": [
    "#visulaising \n",
    "plt.plot(k, test_f1, color ='red', label ='test')\n",
    "plt.plot(k, train_f1, color ='green', label ='train')\n",
    "plt.xlabel('K Neighbors')\n",
    "plt.ylabel('F1 score')\n",
    "plt.title('f1 curve')\n",
    "#plt.ylim(0,4,1)\n",
    "plt.legend()"
   ]
  },
  {
   "cell_type": "code",
   "execution_count": 3,
   "metadata": {},
   "outputs": [
    {
     "data": {
      "text/plain": [
       "'\\nhere the value of k is decided by using both train and test data\\n, instead of (testset) that we can use validation set\\n\\n\\ntypes:\\n\\n1. Hold-out validation\\n    as we directly divide the data into praprotions, there might be a \\n    case where the validation  set is biased to only one class\\n    (which mean validation set might have data of only one class,\\n    these results in set have no idea about the other class)\\n    \\n    in this we have different distributions\\n    \\n2. Stratified hold out \\n    \\n    in this we have equal distributions\\n\\nin the hold out scenario we need good amount of data to maintain,\\nso we need to train with lot data. if the dataset is small?\\nand we want to bulid the complex relations out of them? \\n'"
      ]
     },
     "execution_count": 3,
     "metadata": {},
     "output_type": "execute_result"
    }
   ],
   "source": [
    "'''\n",
    "here the value of k is decided by using both train and test data\n",
    ", instead of (testset) that we can use validation set\n",
    "\n",
    "\n",
    "types:\n",
    "\n",
    "1. Hold-out validation\n",
    "    as we directly divide the data into praprotions, there might be a \n",
    "    case where the validation  set is biased to only one class\n",
    "    (which mean validation set might have data of only one class,\n",
    "    these results in set have no idea about the other class)\n",
    "    \n",
    "    in this we have different distributions\n",
    "    \n",
    "2. Stratified hold out \n",
    "    \n",
    "    in this we have equal distributions\n",
    "\n",
    "in the hold out scenario we need good amount of data to maintain,\n",
    "so we need to train with lot data. if the dataset is small?\n",
    "and we want to bulid the complex relations out of them? \n",
    "'''"
   ]
  },
  {
   "cell_type": "markdown",
   "metadata": {},
   "source": [
    "# Bias Variance Tradeoff"
   ]
  },
  {
   "cell_type": "code",
   "execution_count": null,
   "metadata": {},
   "outputs": [],
   "source": [
    "'''\n",
    "if variance is high then bias is low\n",
    "if bias is high then variance is low \n",
    "\n",
    "\n",
    "error        high bias     high variance     optimally in btw\n",
    "\n",
    "fit          underfit       overfit           bestfit\n",
    "k range      21<k           k<11              12<k<21\n",
    "complexity   low            high              optimum\n",
    "\n",
    "\n",
    "Generalization error : defines the optimum model btw high bias and high varaince\n",
    "\n",
    "\n",
    "High variance refers to overfitting whereas high bias \n",
    "refers to underfitting and we do not want both of these scenarios. \n",
    "So, the best model is said to have low bias and low variance.\n",
    "'''"
   ]
  }
 ],
 "metadata": {
  "kernelspec": {
   "display_name": "Python 3",
   "language": "python",
   "name": "python3"
  },
  "language_info": {
   "codemirror_mode": {
    "name": "ipython",
    "version": 3
   },
   "file_extension": ".py",
   "mimetype": "text/x-python",
   "name": "python",
   "nbconvert_exporter": "python",
   "pygments_lexer": "ipython3",
   "version": "3.7.4"
  }
 },
 "nbformat": 4,
 "nbformat_minor": 2
}
